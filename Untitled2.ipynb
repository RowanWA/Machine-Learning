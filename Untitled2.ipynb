{
  "nbformat": 4,
  "nbformat_minor": 0,
  "metadata": {
    "colab": {
      "provenance": [],
      "collapsed_sections": [
        "LwCGG-cNpbD6",
        "aMGSHuZD3HYY",
        "uEmatG9yHHSl",
        "YjCkCzGxpTAs"
      ],
      "include_colab_link": true
    },
    "kernelspec": {
      "name": "python3",
      "display_name": "Python 3"
    },
    "language_info": {
      "name": "python"
    }
  },
  "cells": [
    {
      "cell_type": "markdown",
      "metadata": {
        "id": "view-in-github",
        "colab_type": "text"
      },
      "source": [
        "<a href=\"https://colab.research.google.com/github/RowanWA/Machine-Learning/blob/main/Untitled2.ipynb\" target=\"_parent\"><img src=\"https://colab.research.google.com/assets/colab-badge.svg\" alt=\"Open In Colab\"/></a>"
      ]
    },
    {
      "cell_type": "markdown",
      "source": [
        "# Imports\n"
      ],
      "metadata": {
        "id": "aMGSHuZD3HYY"
      }
    },
    {
      "cell_type": "code",
      "source": [
        "# torch imports\n",
        "import torch\n",
        "from torch import nn\n",
        "from torch.utils.data import DataLoader\n",
        "\n",
        "# torchvision imports\n",
        "from torchvision import datasets\n",
        "from torchvision.transforms import ToTensor\n",
        "from torchvision import transforms\n",
        "from torchvision import models\n",
        "\n",
        "from torchvision.datasets import ImageFolder\n",
        "\n",
        "# google drive connect\n",
        "from google.colab import drive\n",
        "drive.mount('/content/drive')"
      ],
      "metadata": {
        "id": "v9_TxUQs3d0v"
      },
      "execution_count": null,
      "outputs": []
    },
    {
      "cell_type": "markdown",
      "source": [
        "# Data Loading"
      ],
      "metadata": {
        "id": "kUuedEUv3fZ4"
      }
    },
    {
      "cell_type": "code",
      "source": [
        "transform = transforms.Compose([\n",
        "    transforms.RandomRotation(20),\n",
        "    transforms.Resize((153,204)),\n",
        "    transforms.ToTensor(),\n",
        "    transforms.Normalize((0.5,0.5,0.5), (0.5,0.5,0.5))\n",
        "])\n",
        "\n",
        "transform_two = transforms.Compose([\n",
        "    transforms.RandomRotation(20),\n",
        "    transforms.Resize((153,204)),\n",
        "    transforms.RandomHorizontalFlip(0.5),\n",
        "    transforms.ToTensor(),\n",
        "    transforms.Normalize((0.5,), (0.5,))\n",
        "])\n",
        "\n",
        "\n",
        "train_data_one = datasets.ImageFolder(root=\"/content/drive/MyDrive/ml/pictures/train\", transform=transform)\n",
        "train_data_two = datasets.ImageFolder(root=\"/content/drive/MyDrive/ml/pictures/train\", transform=transform_two)\n",
        "train_dataset = train_data_one + train_data_two\n",
        "\n",
        "test_data_one = datasets.ImageFolder(root=\"/content/drive/MyDrive/ml/pictures/test\", transform=transform)\n",
        "test_data_two = datasets.ImageFolder(root=\"/content/drive/MyDrive/ml/pictures/test\", transform=transform_two)\n",
        "test_dataset = test_data_one + test_data_two"
      ],
      "metadata": {
        "id": "JJn7n34E3lcu"
      },
      "execution_count": null,
      "outputs": []
    },
    {
      "cell_type": "code",
      "source": [
        "from sklearn.model_selection import StratifiedShuffleSplit\n",
        "import numpy as np\n",
        "from torch.utils.data import Subset\n",
        "\n",
        "all_targets = []\n",
        "for dataset in all_data.datasets:\n",
        "    all_targets.extend(dataset.targets)\n",
        "\n",
        "targets = np.array(all_targets)\n",
        "\n",
        "splitter = StratifiedShuffleSplit(n_splits=1, test_size=0.2, random_state=42)\n",
        "\n",
        "train_data, val_data = train_test_split(train_dataset, test_size=0.2, random_state=42)"
      ],
      "metadata": {
        "id": "fqK43hGnsqgw",
        "outputId": "851077cc-a305-493e-bee8-e2c2b6a91ef2",
        "colab": {
          "base_uri": "https://localhost:8080/",
          "height": 211
        }
      },
      "execution_count": 2,
      "outputs": [
        {
          "output_type": "error",
          "ename": "NameError",
          "evalue": "name 'all_data' is not defined",
          "traceback": [
            "\u001b[0;31m---------------------------------------------------------------------------\u001b[0m",
            "\u001b[0;31mNameError\u001b[0m                                 Traceback (most recent call last)",
            "\u001b[0;32m<ipython-input-2-428c3d05dca9>\u001b[0m in \u001b[0;36m<cell line: 0>\u001b[0;34m()\u001b[0m\n\u001b[1;32m      4\u001b[0m \u001b[0;34m\u001b[0m\u001b[0m\n\u001b[1;32m      5\u001b[0m \u001b[0mall_targets\u001b[0m \u001b[0;34m=\u001b[0m \u001b[0;34m[\u001b[0m\u001b[0;34m]\u001b[0m\u001b[0;34m\u001b[0m\u001b[0;34m\u001b[0m\u001b[0m\n\u001b[0;32m----> 6\u001b[0;31m \u001b[0;32mfor\u001b[0m \u001b[0mdataset\u001b[0m \u001b[0;32min\u001b[0m \u001b[0mall_data\u001b[0m\u001b[0;34m.\u001b[0m\u001b[0mdatasets\u001b[0m\u001b[0;34m:\u001b[0m\u001b[0;34m\u001b[0m\u001b[0;34m\u001b[0m\u001b[0m\n\u001b[0m\u001b[1;32m      7\u001b[0m     \u001b[0mall_targets\u001b[0m\u001b[0;34m.\u001b[0m\u001b[0mextend\u001b[0m\u001b[0;34m(\u001b[0m\u001b[0mdataset\u001b[0m\u001b[0;34m.\u001b[0m\u001b[0mtargets\u001b[0m\u001b[0;34m)\u001b[0m\u001b[0;34m\u001b[0m\u001b[0;34m\u001b[0m\u001b[0m\n\u001b[1;32m      8\u001b[0m \u001b[0;34m\u001b[0m\u001b[0m\n",
            "\u001b[0;31mNameError\u001b[0m: name 'all_data' is not defined"
          ]
        }
      ]
    },
    {
      "cell_type": "code",
      "source": [
        "import matplotlib.pyplot as plt\n",
        "labels_map = {\n",
        "\n",
        "              0: \"Seats\",\n",
        "              1: \"Trees\",\n",
        "              2: \"Windows\",\n",
        "}\n"
      ],
      "metadata": {
        "id": "n1l2GVPU7mkV"
      },
      "execution_count": null,
      "outputs": []
    },
    {
      "cell_type": "code",
      "source": [
        "batch_size = 8\n",
        "\n",
        "train_dataloader = DataLoader(train_dataset, batch_size=batch_size)\n",
        "\n",
        "test_dataloader = DataLoader(test_dataset, batch_size=batch_size)\n",
        "\n",
        "for X in train_dataloader:\n",
        "  print (f\"Shape of X[N, C. H. W]: {X[0].shape}\")"
      ],
      "metadata": {
        "id": "HRH-2E4BBMIR"
      },
      "execution_count": null,
      "outputs": []
    },
    {
      "cell_type": "markdown",
      "source": [
        "# Model Creation"
      ],
      "metadata": {
        "id": "uEmatG9yHHSl"
      }
    },
    {
      "cell_type": "code",
      "source": [
        "device = \"cpu\"\n",
        "\n",
        "model = models.resnet18(pretrained=True)"
      ],
      "metadata": {
        "id": "YaxmAGYFHKNG"
      },
      "execution_count": null,
      "outputs": []
    },
    {
      "cell_type": "markdown",
      "source": [
        "# Model Modifications"
      ],
      "metadata": {
        "id": "RIr-_S5DKLJH"
      }
    },
    {
      "cell_type": "code",
      "source": [
        "number_features = model.fc.in_features\n",
        "\n",
        "model.fc = nn.Linear(number_features, 3)\n",
        "\n",
        "for param in model.parameters():\n",
        "  param.requires_grad = False\n",
        "\n",
        "for param in model.fc.parameters():\n",
        "  param.requires_grad = True"
      ],
      "metadata": {
        "id": "uUtwBgN_KPYx"
      },
      "execution_count": null,
      "outputs": []
    },
    {
      "cell_type": "code",
      "source": [
        "loss_fn = nn.CrossEntropyLoss()\n",
        "optimizer = torch.optim.SGD(model.parameters(), lr=0.001)"
      ],
      "metadata": {
        "id": "1EHAyhyPj3uv"
      },
      "execution_count": null,
      "outputs": []
    },
    {
      "cell_type": "markdown",
      "source": [
        "# Training and Test Functions"
      ],
      "metadata": {
        "id": "xzpEChm7lbDf"
      }
    },
    {
      "cell_type": "code",
      "source": [
        "def train(dataloader, model, loss_fn, optimizer):\n",
        "  size = len(dataloader.dataset)\n",
        "  model.train()\n",
        "  for batch, (X, y) in enumerate(dataloader):\n",
        "    X, y = X.to(device), y.to(device)\n",
        "\n",
        "    pred = model(X)\n",
        "    loss = loss_fn(pred, y)\n",
        "\n",
        "    loss.backward()\n",
        "    optimizer.step()\n",
        "\n",
        "    optimizer.zero_grad()\n",
        "\n",
        "    if batch % 2 == 0:\n",
        "      loss = loss.item()\n",
        "      current_input = batch * len(X)\n",
        "      print(f\"loss: {loss:>7f} [{current_input:>5d}/{size:>5d}]\")"
      ],
      "metadata": {
        "id": "LnDZ9I_pknLn"
      },
      "execution_count": null,
      "outputs": []
    },
    {
      "cell_type": "code",
      "source": [
        "def test(dataloader, model, loss_fn):\n",
        "  size = len(dataloader.dataset)\n",
        "  num_batches = len(dataloader)\n",
        "  model.eval()\n",
        "\n",
        "  test_loss = 0\n",
        "  correct = 0\n",
        "\n",
        "  with torch.no_grad():\n",
        "    for X, y in dataloader:\n",
        "      X, y = X.to(device), y.to(device)\n",
        "      pred = model(X)\n",
        "\n",
        "      test_loss = test_loss + loss_fn(pred, y).item()\n",
        "\n",
        "      correct_numbers_in_batch = (pred.argmax(1) == y).type(torch.float).sum().item()\n",
        "      correct = correct + correct_numbers_in_batch\n",
        "\n",
        "    test_loss = test_loss / num_batches\n",
        "    correct = correct / size\n",
        "\n",
        "    print(f\"Test Error: \\n Accuracy: (correct / # of images) {(100*correct):>0.1f}%, Average loss: {test_loss:>8f} \\n\")"
      ],
      "metadata": {
        "id": "3zvsPXsTw2bg"
      },
      "execution_count": null,
      "outputs": []
    },
    {
      "cell_type": "markdown",
      "source": [
        "# Main Training"
      ],
      "metadata": {
        "id": "YjCkCzGxpTAs"
      }
    },
    {
      "cell_type": "code",
      "source": [
        "epochs = 15\n",
        "for t in range (epochs):\n",
        "  print(f\"Epoch {t+1}\\n ===================\")\n",
        "  train(train_dataloader, model, loss_fn, optimizer)\n",
        "  test(test_dataloader, model, loss_fn)\n",
        "\n",
        "print(\"Training is finished!\")"
      ],
      "metadata": {
        "id": "kWDhZC9BpXlk"
      },
      "execution_count": null,
      "outputs": []
    },
    {
      "cell_type": "markdown",
      "source": [
        "# Using the Model to predict"
      ],
      "metadata": {
        "id": "ponVNv0V495J"
      }
    },
    {
      "cell_type": "code",
      "source": [
        "from PIL import Image\n",
        "from torchvision import transforms\n",
        "\n",
        "image = Image.open(\"/content/drive/MyDrive/ml/test.jpg\").convert(\"RGB\")\n",
        "\n",
        "transform = transforms.Compose([\n",
        "    transforms.Grayscale(1),\n",
        "    transforms.Resize((28,28)),\n",
        "    transforms.ToTensor(),\n",
        "    transforms.Normalize((0.5), (0.5))\n",
        "])\n",
        "\n",
        "\n",
        "image = transform(image)\n",
        "print(f\"Shape of image: {image.shape}\")\n",
        "image = image.unsqueeze(0)\n",
        "print(f\"Shape of image: {image.shape}\")\n",
        "\n",
        "with torch.no_grad():\n",
        "  pred = model(image)\n",
        "\n",
        "probabilities = torch.nn.functional.softmax(pred, dim=1)\n",
        "print(f\"Probabilities: {probabilities}\")\n",
        "\n",
        "predicted_label = probabilities.argmax(1).item()\n",
        "print(f\"Predicted label: {labels_map[predicted_label]}\")"
      ],
      "metadata": {
        "id": "RqntjkTd44n5"
      },
      "execution_count": null,
      "outputs": []
    },
    {
      "cell_type": "markdown",
      "source": [
        "# Saving and Loading the Model"
      ],
      "metadata": {
        "id": "zs9V-UAcVtqA"
      }
    },
    {
      "cell_type": "code",
      "source": [
        "torch.save(model.state_dict(), \"/content/drive/MyDrive/ml/firstModel.pth\")"
      ],
      "metadata": {
        "id": "witR2ofXVhbe"
      },
      "execution_count": null,
      "outputs": []
    }
  ]
}
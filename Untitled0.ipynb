{
  "nbformat": 4,
  "nbformat_minor": 0,
  "metadata": {
    "colab": {
      "provenance": [],
      "collapsed_sections": [
        "LwCGG-cNpbD6",
        "aMGSHuZD3HYY",
        "uEmatG9yHHSl",
        "YjCkCzGxpTAs"
      ],
      "authorship_tag": "ABX9TyPewbNfQTiZzmX0Scj+A/Cs",
      "include_colab_link": true
    },
    "kernelspec": {
      "name": "python3",
      "display_name": "Python 3"
    },
    "language_info": {
      "name": "python"
    }
  },
  "cells": [
    {
      "cell_type": "markdown",
      "metadata": {
        "id": "view-in-github",
        "colab_type": "text"
      },
      "source": [
        "<a href=\"https://colab.research.google.com/github/RowanWA/Machine-Learning/blob/main/Untitled0.ipynb\" target=\"_parent\"><img src=\"https://colab.research.google.com/assets/colab-badge.svg\" alt=\"Open In Colab\"/></a>"
      ]
    },
    {
      "cell_type": "markdown",
      "source": [
        "# Imports\n"
      ],
      "metadata": {
        "id": "aMGSHuZD3HYY"
      }
    },
    {
      "cell_type": "code",
      "source": [
        "# torch imports\n",
        "import torch\n",
        "from torch import nn\n",
        "from torch.utils.data import DataLoader\n",
        "\n",
        "# torchvision imports\n",
        "from torchvision import datasets\n",
        "from torchvision.transforms import ToTensor\n",
        "from torchvision import transforms\n",
        "\n",
        "from torchvision.datasets import ImageFolder\n",
        "\n",
        "# google drive connect\n",
        "from google.colab import drive\n",
        "drive.mount('/content/drive')"
      ],
      "metadata": {
        "id": "v9_TxUQs3d0v",
        "colab": {
          "base_uri": "https://localhost:8080/"
        },
        "outputId": "e3947553-a61e-47f6-ebe7-c68fda0f62e9"
      },
      "execution_count": 13,
      "outputs": [
        {
          "output_type": "stream",
          "name": "stdout",
          "text": [
            "Drive already mounted at /content/drive; to attempt to forcibly remount, call drive.mount(\"/content/drive\", force_remount=True).\n"
          ]
        }
      ]
    },
    {
      "cell_type": "markdown",
      "source": [
        "# Data Loading"
      ],
      "metadata": {
        "id": "kUuedEUv3fZ4"
      }
    },
    {
      "cell_type": "code",
      "source": [
        "transform = transforms.Compose([\n",
        "    transforms.Resize((153,204)),\n",
        "    transforms.ToTensor(),\n",
        "    transforms.Normalize((0.5,0.5,0.5), (0.5,0.5,0.5))\n",
        "])\n",
        "\n",
        "\n",
        "traning_data = datasets.ImageFolder(root=\"/content/drive/MyDrive/ml/pictures\", transform=transform)\n"
      ],
      "metadata": {
        "id": "JJn7n34E3lcu"
      },
      "execution_count": 14,
      "outputs": []
    },
    {
      "cell_type": "code",
      "source": [
        "import matplotlib.pyplot as plt\n",
        "labels_map = {\n",
        "\n",
        "              0: \"Seats\",\n",
        "              1: \"Trees\",\n",
        "              2: \"Windows\",\n",
        "}\n"
      ],
      "metadata": {
        "id": "n1l2GVPU7mkV"
      },
      "execution_count": 16,
      "outputs": []
    },
    {
      "cell_type": "code",
      "source": [
        "batch_size = 8\n",
        "\n",
        "train_dataloader = DataLoader(traning_data, batch_size=batch_size)\n",
        "\n",
        "for X in train_dataloader:\n",
        "  print (f\"Shape of X[N, C. H. W]: {X[0].shape}\")"
      ],
      "metadata": {
        "colab": {
          "base_uri": "https://localhost:8080/"
        },
        "id": "HRH-2E4BBMIR",
        "outputId": "c7a95593-03e0-4488-b7e2-668f7861c7b0"
      },
      "execution_count": 18,
      "outputs": [
        {
          "output_type": "stream",
          "name": "stdout",
          "text": [
            "Shape of X[N, C. H. W]: torch.Size([8, 3, 153, 204])\n",
            "Shape of X[N, C. H. W]: torch.Size([8, 3, 153, 204])\n",
            "Shape of X[N, C. H. W]: torch.Size([8, 3, 153, 204])\n",
            "Shape of X[N, C. H. W]: torch.Size([8, 3, 153, 204])\n",
            "Shape of X[N, C. H. W]: torch.Size([8, 3, 153, 204])\n",
            "Shape of X[N, C. H. W]: torch.Size([8, 3, 153, 204])\n",
            "Shape of X[N, C. H. W]: torch.Size([8, 3, 153, 204])\n",
            "Shape of X[N, C. H. W]: torch.Size([8, 3, 153, 204])\n",
            "Shape of X[N, C. H. W]: torch.Size([8, 3, 153, 204])\n",
            "Shape of X[N, C. H. W]: torch.Size([8, 3, 153, 204])\n",
            "Shape of X[N, C. H. W]: torch.Size([8, 3, 153, 204])\n",
            "Shape of X[N, C. H. W]: torch.Size([2, 3, 153, 204])\n"
          ]
        }
      ]
    },
    {
      "cell_type": "markdown",
      "source": [
        "# Model Creation"
      ],
      "metadata": {
        "id": "uEmatG9yHHSl"
      }
    },
    {
      "cell_type": "code",
      "source": [
        "device = \"cpu\"\n",
        "\n",
        "class NeuralNetwork(nn.Module):\n",
        "  def __init__(self):\n",
        "    super().__init__()\n",
        "    self.flatten = nn.Flatten()\n",
        "    self.linear_relu_stack = nn.Sequential(\n",
        "        nn.Linear(153*204*3, 512),\n",
        "        nn.ReLU(),\n",
        "        nn.Linear(512, 512),\n",
        "        nn.ReLU(),\n",
        "        nn.Linear(512, 3),\n",
        "    )\n",
        "\n",
        "  def forward(self, x):\n",
        "    x = self.flatten(x)\n",
        "    logits = self.linear_relu_stack(x)\n",
        "    return logits\n",
        "\n",
        "model = NeuralNetwork().to(device)"
      ],
      "metadata": {
        "id": "YaxmAGYFHKNG"
      },
      "execution_count": 19,
      "outputs": []
    },
    {
      "cell_type": "code",
      "source": [
        "loss_fn = nn.CrossEntropyLoss()\n",
        "optimizer = torch.optim.SGD(model.parameters(), lr=0.001)"
      ],
      "metadata": {
        "id": "1EHAyhyPj3uv"
      },
      "execution_count": 20,
      "outputs": []
    },
    {
      "cell_type": "markdown",
      "source": [
        "# Training and Test Functions"
      ],
      "metadata": {
        "id": "xzpEChm7lbDf"
      }
    },
    {
      "cell_type": "code",
      "source": [
        "def train(dataloader, model, loss_fn, optimizer):\n",
        "  size = len(dataloader.dataset)\n",
        "  model.train()\n",
        "  for batch, (X, y) in enumerate(dataloader):\n",
        "    X, y = X.to(device), y.to(device)\n",
        "\n",
        "    pred = model(X)\n",
        "    loss = loss_fn(pred, y)\n",
        "\n",
        "    loss.backward()\n",
        "    optimizer.step()\n",
        "\n",
        "    optimizer.zero_grad()\n",
        "\n",
        "    if batch % 2 == 0:\n",
        "      loss = loss.item()\n",
        "      current_input = batch * len(X)\n",
        "      print(f\"loss: {loss:>7f} [{current_input:>5d}/{size:>5d}]\")"
      ],
      "metadata": {
        "id": "LnDZ9I_pknLn"
      },
      "execution_count": 24,
      "outputs": []
    },
    {
      "cell_type": "code",
      "source": [
        "def test(dataloader, model, loss_fn):\n",
        "  size = len(dataloader.dataset)\n",
        "  num_batches = len(dataloader)\n",
        "  model.eval()\n",
        "\n",
        "  test_loss = 0\n",
        "  correct = 0\n",
        "\n",
        "  with torch.no_grad():\n",
        "    for X, y in dataloader:\n",
        "      X, y = X.to(device), y.to(device)\n",
        "      pred = model(X)\n",
        "\n",
        "      test_loss = test_loss + loss_fn(pred, y).item()\n",
        "\n",
        "      correct_numbers_in_batch = (pred.argmax(1) == y).type(torch.float).sum().item()\n",
        "      correct = correct + correct_numbers_in_batch\n",
        "\n",
        "    test_loss = test_loss / num_batches\n",
        "    correct = correct / size\n",
        "\n",
        "    print(f\"Test Error: \\n Accuracy: (correct / # of images) {(100*correct):>0.1f}%, Average loss: {test_loss:>8f} \\n\")"
      ],
      "metadata": {
        "id": "3zvsPXsTw2bg"
      },
      "execution_count": 25,
      "outputs": []
    },
    {
      "cell_type": "markdown",
      "source": [
        "# Main Training"
      ],
      "metadata": {
        "id": "YjCkCzGxpTAs"
      }
    },
    {
      "cell_type": "code",
      "source": [
        "epochs = 5\n",
        "for t in range (epochs):\n",
        "  print(f\"Epoch {t+1}\\n ===================\")\n",
        "  train(train_dataloader, model, loss_fn, optimizer)\n",
        "\n",
        "print(\"Training is finished!\")"
      ],
      "metadata": {
        "colab": {
          "base_uri": "https://localhost:8080/"
        },
        "id": "kWDhZC9BpXlk",
        "outputId": "9ee1a1d5-fbb9-4b78-9cac-2f259b3a50b1"
      },
      "execution_count": 26,
      "outputs": [
        {
          "output_type": "stream",
          "name": "stdout",
          "text": [
            "Epoch 1\n",
            " ===================\n",
            "loss: 0.988177 [    0/   90]\n",
            "loss: 0.969227 [   16/   90]\n",
            "loss: 0.658274 [   32/   90]\n",
            "loss: 0.623703 [   48/   90]\n",
            "loss: 0.957458 [   64/   90]\n",
            "loss: 0.814676 [   80/   90]\n",
            "Epoch 2\n",
            " ===================\n",
            "loss: 0.971857 [    0/   90]\n",
            "loss: 0.952502 [   16/   90]\n",
            "loss: 0.597138 [   32/   90]\n",
            "loss: 0.566865 [   48/   90]\n",
            "loss: 0.921214 [   64/   90]\n",
            "loss: 0.771497 [   80/   90]\n",
            "Epoch 3\n",
            " ===================\n",
            "loss: 0.954986 [    0/   90]\n",
            "loss: 0.935298 [   16/   90]\n",
            "loss: 0.542729 [   32/   90]\n",
            "loss: 0.517203 [   48/   90]\n",
            "loss: 0.884923 [   64/   90]\n",
            "loss: 0.734184 [   80/   90]\n",
            "Epoch 4\n",
            " ===================\n",
            "loss: 0.935931 [    0/   90]\n",
            "loss: 0.917686 [   16/   90]\n",
            "loss: 0.493906 [   32/   90]\n",
            "loss: 0.472820 [   48/   90]\n",
            "loss: 0.850816 [   64/   90]\n",
            "loss: 0.701437 [   80/   90]\n",
            "Epoch 5\n",
            " ===================\n",
            "loss: 0.916037 [    0/   90]\n",
            "loss: 0.900052 [   16/   90]\n",
            "loss: 0.450159 [   32/   90]\n",
            "loss: 0.435067 [   48/   90]\n",
            "loss: 0.816391 [   64/   90]\n",
            "loss: 0.672561 [   80/   90]\n",
            "Training is finished!\n"
          ]
        }
      ]
    },
    {
      "cell_type": "markdown",
      "source": [
        "# Using the Model to predict"
      ],
      "metadata": {
        "id": "ponVNv0V495J"
      }
    },
    {
      "cell_type": "code",
      "source": [
        "from PIL import Image\n",
        "from torchvision import transforms\n",
        "\n",
        "image = Image.open(\"/content/drive/MyDrive/ml/test.jpg\").convert(\"RGB\")\n",
        "\n",
        "transform = transforms.Compose([\n",
        "    transforms.Grayscale(1),\n",
        "    transforms.Resize((28,28)),\n",
        "    transforms.ToTensor(),\n",
        "    transforms.Normalize((0.5), (0.5))\n",
        "])\n",
        "\n",
        "\n",
        "image = transform(image)\n",
        "print(f\"Shape of image: {image.shape}\")\n",
        "image = image.unsqueeze(0)\n",
        "print(f\"Shape of image: {image.shape}\")\n",
        "\n",
        "with torch.no_grad():\n",
        "  pred = model(image)\n",
        "\n",
        "probabilities = torch.nn.functional.softmax(pred, dim=1)\n",
        "print(f\"Probabilities: {probabilities}\")\n",
        "\n",
        "predicted_label = probabilities.argmax(1).item()\n",
        "print(f\"Predicted label: {labels_map[predicted_label]}\")"
      ],
      "metadata": {
        "colab": {
          "base_uri": "https://localhost:8080/"
        },
        "id": "RqntjkTd44n5",
        "outputId": "616aa6ce-11dd-4442-b8c4-d84eb9cc9eaa"
      },
      "execution_count": 13,
      "outputs": [
        {
          "output_type": "stream",
          "name": "stdout",
          "text": [
            "Shape of image: torch.Size([1, 28, 28])\n",
            "Shape of image: torch.Size([1, 1, 28, 28])\n",
            "Probabilities: tensor([[0.0353, 0.0128, 0.1127, 0.0128, 0.0688, 0.0515, 0.0866, 0.0128, 0.5066,\n",
            "         0.1002]])\n",
            "Predicted label: Bag\n"
          ]
        }
      ]
    },
    {
      "cell_type": "markdown",
      "source": [
        "# Saving and Loading the Model"
      ],
      "metadata": {
        "id": "zs9V-UAcVtqA"
      }
    },
    {
      "cell_type": "code",
      "source": [
        "torch.save(model.state_dict(), \"/content/drive/MyDrive/ml/firstModel.pth\")"
      ],
      "metadata": {
        "id": "witR2ofXVhbe"
      },
      "execution_count": 16,
      "outputs": []
    }
  ]
}
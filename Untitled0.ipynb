{
  "nbformat": 4,
  "nbformat_minor": 0,
  "metadata": {
    "colab": {
      "provenance": [],
      "collapsed_sections": [
        "LwCGG-cNpbD6",
        "aMGSHuZD3HYY",
        "uEmatG9yHHSl",
        "YjCkCzGxpTAs"
      ],
      "authorship_tag": "ABX9TyPO57qOu+FJ3btNvqSd7s07",
      "include_colab_link": true
    },
    "kernelspec": {
      "name": "python3",
      "display_name": "Python 3"
    },
    "language_info": {
      "name": "python"
    }
  },
  "cells": [
    {
      "cell_type": "markdown",
      "metadata": {
        "id": "view-in-github",
        "colab_type": "text"
      },
      "source": [
        "<a href=\"https://colab.research.google.com/github/RowanWA/Machine-Learning/blob/main/Untitled0.ipynb\" target=\"_parent\"><img src=\"https://colab.research.google.com/assets/colab-badge.svg\" alt=\"Open In Colab\"/></a>"
      ]
    },
    {
      "cell_type": "markdown",
      "source": [
        "# loading etc"
      ],
      "metadata": {
        "id": "LwCGG-cNpbD6"
      }
    },
    {
      "cell_type": "code",
      "execution_count": 50,
      "metadata": {
        "colab": {
          "base_uri": "https://localhost:8080/"
        },
        "id": "EVdH1M3cxJpz",
        "outputId": "50ebba99-6ec2-48d2-b403-6fd6a98c6413"
      },
      "outputs": [
        {
          "output_type": "stream",
          "name": "stdout",
          "text": [
            "Found existing installation: fastai 2.7.18\n",
            "Uninstalling fastai-2.7.18:\n",
            "  Successfully uninstalled fastai-2.7.18\n",
            "Requirement already satisfied: torch in /usr/local/lib/python3.11/dist-packages (2.6.0)\n",
            "Requirement already satisfied: torchaudio in /usr/local/lib/python3.11/dist-packages (2.6.0)\n",
            "Requirement already satisfied: torchvision in /usr/local/lib/python3.11/dist-packages (0.21.0)\n",
            "Requirement already satisfied: torchtext in /usr/local/lib/python3.11/dist-packages (0.18.0)\n",
            "Requirement already satisfied: torchdata in /usr/local/lib/python3.11/dist-packages (0.11.0)\n",
            "Requirement already satisfied: filelock in /usr/local/lib/python3.11/dist-packages (from torch) (3.17.0)\n",
            "Requirement already satisfied: typing-extensions>=4.10.0 in /usr/local/lib/python3.11/dist-packages (from torch) (4.12.2)\n",
            "Requirement already satisfied: networkx in /usr/local/lib/python3.11/dist-packages (from torch) (3.4.2)\n",
            "Requirement already satisfied: jinja2 in /usr/local/lib/python3.11/dist-packages (from torch) (3.1.6)\n",
            "Requirement already satisfied: fsspec in /usr/local/lib/python3.11/dist-packages (from torch) (2024.10.0)\n",
            "Requirement already satisfied: nvidia-cuda-nvrtc-cu12==12.4.127 in /usr/local/lib/python3.11/dist-packages (from torch) (12.4.127)\n",
            "Requirement already satisfied: nvidia-cuda-runtime-cu12==12.4.127 in /usr/local/lib/python3.11/dist-packages (from torch) (12.4.127)\n",
            "Requirement already satisfied: nvidia-cuda-cupti-cu12==12.4.127 in /usr/local/lib/python3.11/dist-packages (from torch) (12.4.127)\n",
            "Requirement already satisfied: nvidia-cudnn-cu12==9.1.0.70 in /usr/local/lib/python3.11/dist-packages (from torch) (9.1.0.70)\n",
            "Requirement already satisfied: nvidia-cublas-cu12==12.4.5.8 in /usr/local/lib/python3.11/dist-packages (from torch) (12.4.5.8)\n",
            "Requirement already satisfied: nvidia-cufft-cu12==11.2.1.3 in /usr/local/lib/python3.11/dist-packages (from torch) (11.2.1.3)\n",
            "Requirement already satisfied: nvidia-curand-cu12==10.3.5.147 in /usr/local/lib/python3.11/dist-packages (from torch) (10.3.5.147)\n",
            "Requirement already satisfied: nvidia-cusolver-cu12==11.6.1.9 in /usr/local/lib/python3.11/dist-packages (from torch) (11.6.1.9)\n",
            "Requirement already satisfied: nvidia-cusparse-cu12==12.3.1.170 in /usr/local/lib/python3.11/dist-packages (from torch) (12.3.1.170)\n",
            "Requirement already satisfied: nvidia-cusparselt-cu12==0.6.2 in /usr/local/lib/python3.11/dist-packages (from torch) (0.6.2)\n",
            "Requirement already satisfied: nvidia-nccl-cu12==2.21.5 in /usr/local/lib/python3.11/dist-packages (from torch) (2.21.5)\n",
            "Requirement already satisfied: nvidia-nvtx-cu12==12.4.127 in /usr/local/lib/python3.11/dist-packages (from torch) (12.4.127)\n",
            "Requirement already satisfied: nvidia-nvjitlink-cu12==12.4.127 in /usr/local/lib/python3.11/dist-packages (from torch) (12.4.127)\n",
            "Requirement already satisfied: triton==3.2.0 in /usr/local/lib/python3.11/dist-packages (from torch) (3.2.0)\n",
            "Requirement already satisfied: sympy==1.13.1 in /usr/local/lib/python3.11/dist-packages (from torch) (1.13.1)\n",
            "Requirement already satisfied: mpmath<1.4,>=1.1.0 in /usr/local/lib/python3.11/dist-packages (from sympy==1.13.1->torch) (1.3.0)\n",
            "Requirement already satisfied: numpy in /usr/local/lib/python3.11/dist-packages (from torchvision) (1.26.4)\n",
            "Requirement already satisfied: pillow!=8.3.*,>=5.3.0 in /usr/local/lib/python3.11/dist-packages (from torchvision) (11.1.0)\n",
            "Requirement already satisfied: tqdm in /usr/local/lib/python3.11/dist-packages (from torchtext) (4.67.1)\n",
            "Requirement already satisfied: requests in /usr/local/lib/python3.11/dist-packages (from torchtext) (2.32.3)\n",
            "Requirement already satisfied: urllib3>=1.25 in /usr/local/lib/python3.11/dist-packages (from torchdata) (2.3.0)\n",
            "Requirement already satisfied: MarkupSafe>=2.0 in /usr/local/lib/python3.11/dist-packages (from jinja2->torch) (3.0.2)\n",
            "Requirement already satisfied: charset-normalizer<4,>=2 in /usr/local/lib/python3.11/dist-packages (from requests->torchtext) (3.4.1)\n",
            "Requirement already satisfied: idna<4,>=2.5 in /usr/local/lib/python3.11/dist-packages (from requests->torchtext) (3.10)\n",
            "Requirement already satisfied: certifi>=2017.4.17 in /usr/local/lib/python3.11/dist-packages (from requests->torchtext) (2025.1.31)\n"
          ]
        }
      ],
      "source": [
        "!pip3 uninstall --yes fastai\n",
        "!pip3 install torch torchaudio torchvision torchtext torchdata"
      ]
    },
    {
      "cell_type": "markdown",
      "source": [
        "# Imports\n"
      ],
      "metadata": {
        "id": "aMGSHuZD3HYY"
      }
    },
    {
      "cell_type": "code",
      "source": [
        "# torch imports\n",
        "import torch\n",
        "from torch import nn\n",
        "from torch.utils.data import DataLoader\n",
        "\n",
        "# torchvision imports\n",
        "from torchvision import datasets\n",
        "from torchvision.transforms import ToTensor"
      ],
      "metadata": {
        "id": "v9_TxUQs3d0v"
      },
      "execution_count": 51,
      "outputs": []
    },
    {
      "cell_type": "markdown",
      "source": [
        "# Data Loading"
      ],
      "metadata": {
        "id": "kUuedEUv3fZ4"
      }
    },
    {
      "cell_type": "code",
      "source": [
        "traning_data = datasets.FashionMNIST(\n",
        "    root=\"data\",\n",
        "    train= True,\n",
        "    download=True,\n",
        "    transform=ToTensor()\n",
        ")\n",
        "\n",
        "#test data\n",
        "test_data = datasets.FashionMNIST(\n",
        "    root=\"data\",\n",
        "    train= False,\n",
        "    download=True,\n",
        "    transform=ToTensor()\n",
        ")"
      ],
      "metadata": {
        "id": "JJn7n34E3lcu"
      },
      "execution_count": 52,
      "outputs": []
    },
    {
      "cell_type": "code",
      "source": [
        "import matplotlib.pyplot as plt\n",
        "labels_map = {\n",
        "\n",
        "              0: \"T-shirt\",\n",
        "              1: \"Trousers\",\n",
        "              2: \"Pullover\",\n",
        "              3: \"Dress\",\n",
        "              4: \"Coat\",\n",
        "              5: \"Sandel\",\n",
        "              6: \"Shirt\",\n",
        "              7: \"Sneaker\",\n",
        "              8: \"Bag\",\n",
        "              9: \"Ankle Boot\",\n",
        "}\n",
        "\n",
        "figure = plt.figure(figsize=(8,8))\n",
        "cols = 3\n",
        "rows = 3\n",
        "\n",
        "for i in range (1,10):\n",
        "  random_index = torch.randint(len(traning_data), size=(1,)).item()\n",
        "  img, label = traning_data[random_index]\n",
        "  figure.add_subplot(rows, cols, i)\n",
        "  plt.title(labels_map[label])\n",
        "  plt.axis(\"off\")\n",
        "  plt.imshow(img.squeeze(), cmap=\"grey\")"
      ],
      "metadata": {
        "colab": {
          "base_uri": "https://localhost:8080/",
          "height": 675
        },
        "id": "n1l2GVPU7mkV",
        "outputId": "b89c3ac5-4b54-4a55-f2f7-3d8135f2fb77"
      },
      "execution_count": 53,
      "outputs": [
        {
          "output_type": "display_data",
          "data": {
            "text/plain": [
              "<Figure size 800x800 with 9 Axes>"
            ],
            "image/png": "[encoded data removed]"
          },
          "metadata": {}
        }
      ]
    },
    {
      "cell_type": "code",
      "source": [
        "batch_size = 64\n",
        "\n",
        "train_dataloader = DataLoader(traning_data, batch_size=batch_size)\n",
        "test_dataloader = DataLoader(test_data, batch_size=batch_size)\n",
        "\n",
        "for X in test_dataloader:\n",
        "  print (f\"Shape of X[N, C. H. W]: {X[0].shape}\")"
      ],
      "metadata": {
        "colab": {
          "base_uri": "https://localhost:8080/"
        },
        "id": "HRH-2E4BBMIR",
        "outputId": "bc2d3fa7-8b63-4332-d6ec-45e82acdea1e"
      },
      "execution_count": 54,
      "outputs": [
        {
          "output_type": "stream",
          "name": "stdout",
          "text": [
            "Shape of X[N, C. H. W]: torch.Size([64, 1, 28, 28])\n",
            "Shape of X[N, C. H. W]: torch.Size([64, 1, 28, 28])\n",
            "Shape of X[N, C. H. W]: torch.Size([64, 1, 28, 28])\n",
            "Shape of X[N, C. H. W]: torch.Size([64, 1, 28, 28])\n",
            "Shape of X[N, C. H. W]: torch.Size([64, 1, 28, 28])\n",
            "Shape of X[N, C. H. W]: torch.Size([64, 1, 28, 28])\n",
            "Shape of X[N, C. H. W]: torch.Size([64, 1, 28, 28])\n",
            "Shape of X[N, C. H. W]: torch.Size([64, 1, 28, 28])\n",
            "Shape of X[N, C. H. W]: torch.Size([64, 1, 28, 28])\n",
            "Shape of X[N, C. H. W]: torch.Size([64, 1, 28, 28])\n",
            "Shape of X[N, C. H. W]: torch.Size([64, 1, 28, 28])\n",
            "Shape of X[N, C. H. W]: torch.Size([64, 1, 28, 28])\n",
            "Shape of X[N, C. H. W]: torch.Size([64, 1, 28, 28])\n",
            "Shape of X[N, C. H. W]: torch.Size([64, 1, 28, 28])\n",
            "Shape of X[N, C. H. W]: torch.Size([64, 1, 28, 28])\n",
            "Shape of X[N, C. H. W]: torch.Size([64, 1, 28, 28])\n",
            "Shape of X[N, C. H. W]: torch.Size([64, 1, 28, 28])\n",
            "Shape of X[N, C. H. W]: torch.Size([64, 1, 28, 28])\n",
            "Shape of X[N, C. H. W]: torch.Size([64, 1, 28, 28])\n",
            "Shape of X[N, C. H. W]: torch.Size([64, 1, 28, 28])\n",
            "Shape of X[N, C. H. W]: torch.Size([64, 1, 28, 28])\n",
            "Shape of X[N, C. H. W]: torch.Size([64, 1, 28, 28])\n",
            "Shape of X[N, C. H. W]: torch.Size([64, 1, 28, 28])\n",
            "Shape of X[N, C. H. W]: torch.Size([64, 1, 28, 28])\n",
            "Shape of X[N, C. H. W]: torch.Size([64, 1, 28, 28])\n",
            "Shape of X[N, C. H. W]: torch.Size([64, 1, 28, 28])\n",
            "Shape of X[N, C. H. W]: torch.Size([64, 1, 28, 28])\n",
            "Shape of X[N, C. H. W]: torch.Size([64, 1, 28, 28])\n",
            "Shape of X[N, C. H. W]: torch.Size([64, 1, 28, 28])\n",
            "Shape of X[N, C. H. W]: torch.Size([64, 1, 28, 28])\n",
            "Shape of X[N, C. H. W]: torch.Size([64, 1, 28, 28])\n",
            "Shape of X[N, C. H. W]: torch.Size([64, 1, 28, 28])\n",
            "Shape of X[N, C. H. W]: torch.Size([64, 1, 28, 28])\n",
            "Shape of X[N, C. H. W]: torch.Size([64, 1, 28, 28])\n",
            "Shape of X[N, C. H. W]: torch.Size([64, 1, 28, 28])\n",
            "Shape of X[N, C. H. W]: torch.Size([64, 1, 28, 28])\n",
            "Shape of X[N, C. H. W]: torch.Size([64, 1, 28, 28])\n",
            "Shape of X[N, C. H. W]: torch.Size([64, 1, 28, 28])\n",
            "Shape of X[N, C. H. W]: torch.Size([64, 1, 28, 28])\n",
            "Shape of X[N, C. H. W]: torch.Size([64, 1, 28, 28])\n",
            "Shape of X[N, C. H. W]: torch.Size([64, 1, 28, 28])\n",
            "Shape of X[N, C. H. W]: torch.Size([64, 1, 28, 28])\n",
            "Shape of X[N, C. H. W]: torch.Size([64, 1, 28, 28])\n",
            "Shape of X[N, C. H. W]: torch.Size([64, 1, 28, 28])\n",
            "Shape of X[N, C. H. W]: torch.Size([64, 1, 28, 28])\n",
            "Shape of X[N, C. H. W]: torch.Size([64, 1, 28, 28])\n",
            "Shape of X[N, C. H. W]: torch.Size([64, 1, 28, 28])\n",
            "Shape of X[N, C. H. W]: torch.Size([64, 1, 28, 28])\n",
            "Shape of X[N, C. H. W]: torch.Size([64, 1, 28, 28])\n",
            "Shape of X[N, C. H. W]: torch.Size([64, 1, 28, 28])\n",
            "Shape of X[N, C. H. W]: torch.Size([64, 1, 28, 28])\n",
            "Shape of X[N, C. H. W]: torch.Size([64, 1, 28, 28])\n",
            "Shape of X[N, C. H. W]: torch.Size([64, 1, 28, 28])\n",
            "Shape of X[N, C. H. W]: torch.Size([64, 1, 28, 28])\n",
            "Shape of X[N, C. H. W]: torch.Size([64, 1, 28, 28])\n",
            "Shape of X[N, C. H. W]: torch.Size([64, 1, 28, 28])\n",
            "Shape of X[N, C. H. W]: torch.Size([64, 1, 28, 28])\n",
            "Shape of X[N, C. H. W]: torch.Size([64, 1, 28, 28])\n",
            "Shape of X[N, C. H. W]: torch.Size([64, 1, 28, 28])\n",
            "Shape of X[N, C. H. W]: torch.Size([64, 1, 28, 28])\n",
            "Shape of X[N, C. H. W]: torch.Size([64, 1, 28, 28])\n",
            "Shape of X[N, C. H. W]: torch.Size([64, 1, 28, 28])\n",
            "Shape of X[N, C. H. W]: torch.Size([64, 1, 28, 28])\n",
            "Shape of X[N, C. H. W]: torch.Size([64, 1, 28, 28])\n",
            "Shape of X[N, C. H. W]: torch.Size([64, 1, 28, 28])\n",
            "Shape of X[N, C. H. W]: torch.Size([64, 1, 28, 28])\n",
            "Shape of X[N, C. H. W]: torch.Size([64, 1, 28, 28])\n",
            "Shape of X[N, C. H. W]: torch.Size([64, 1, 28, 28])\n",
            "Shape of X[N, C. H. W]: torch.Size([64, 1, 28, 28])\n",
            "Shape of X[N, C. H. W]: torch.Size([64, 1, 28, 28])\n",
            "Shape of X[N, C. H. W]: torch.Size([64, 1, 28, 28])\n",
            "Shape of X[N, C. H. W]: torch.Size([64, 1, 28, 28])\n",
            "Shape of X[N, C. H. W]: torch.Size([64, 1, 28, 28])\n",
            "Shape of X[N, C. H. W]: torch.Size([64, 1, 28, 28])\n",
            "Shape of X[N, C. H. W]: torch.Size([64, 1, 28, 28])\n",
            "Shape of X[N, C. H. W]: torch.Size([64, 1, 28, 28])\n",
            "Shape of X[N, C. H. W]: torch.Size([64, 1, 28, 28])\n",
            "Shape of X[N, C. H. W]: torch.Size([64, 1, 28, 28])\n",
            "Shape of X[N, C. H. W]: torch.Size([64, 1, 28, 28])\n",
            "Shape of X[N, C. H. W]: torch.Size([64, 1, 28, 28])\n",
            "Shape of X[N, C. H. W]: torch.Size([64, 1, 28, 28])\n",
            "Shape of X[N, C. H. W]: torch.Size([64, 1, 28, 28])\n",
            "Shape of X[N, C. H. W]: torch.Size([64, 1, 28, 28])\n",
            "Shape of X[N, C. H. W]: torch.Size([64, 1, 28, 28])\n",
            "Shape of X[N, C. H. W]: torch.Size([64, 1, 28, 28])\n",
            "Shape of X[N, C. H. W]: torch.Size([64, 1, 28, 28])\n",
            "Shape of X[N, C. H. W]: torch.Size([64, 1, 28, 28])\n",
            "Shape of X[N, C. H. W]: torch.Size([64, 1, 28, 28])\n",
            "Shape of X[N, C. H. W]: torch.Size([64, 1, 28, 28])\n",
            "Shape of X[N, C. H. W]: torch.Size([64, 1, 28, 28])\n",
            "Shape of X[N, C. H. W]: torch.Size([64, 1, 28, 28])\n",
            "Shape of X[N, C. H. W]: torch.Size([64, 1, 28, 28])\n",
            "Shape of X[N, C. H. W]: torch.Size([64, 1, 28, 28])\n",
            "Shape of X[N, C. H. W]: torch.Size([64, 1, 28, 28])\n",
            "Shape of X[N, C. H. W]: torch.Size([64, 1, 28, 28])\n",
            "Shape of X[N, C. H. W]: torch.Size([64, 1, 28, 28])\n",
            "Shape of X[N, C. H. W]: torch.Size([64, 1, 28, 28])\n",
            "Shape of X[N, C. H. W]: torch.Size([64, 1, 28, 28])\n",
            "Shape of X[N, C. H. W]: torch.Size([64, 1, 28, 28])\n",
            "Shape of X[N, C. H. W]: torch.Size([64, 1, 28, 28])\n",
            "Shape of X[N, C. H. W]: torch.Size([64, 1, 28, 28])\n",
            "Shape of X[N, C. H. W]: torch.Size([64, 1, 28, 28])\n",
            "Shape of X[N, C. H. W]: torch.Size([64, 1, 28, 28])\n",
            "Shape of X[N, C. H. W]: torch.Size([64, 1, 28, 28])\n",
            "Shape of X[N, C. H. W]: torch.Size([64, 1, 28, 28])\n",
            "Shape of X[N, C. H. W]: torch.Size([64, 1, 28, 28])\n",
            "Shape of X[N, C. H. W]: torch.Size([64, 1, 28, 28])\n",
            "Shape of X[N, C. H. W]: torch.Size([64, 1, 28, 28])\n",
            "Shape of X[N, C. H. W]: torch.Size([64, 1, 28, 28])\n",
            "Shape of X[N, C. H. W]: torch.Size([64, 1, 28, 28])\n",
            "Shape of X[N, C. H. W]: torch.Size([64, 1, 28, 28])\n",
            "Shape of X[N, C. H. W]: torch.Size([64, 1, 28, 28])\n",
            "Shape of X[N, C. H. W]: torch.Size([64, 1, 28, 28])\n",
            "Shape of X[N, C. H. W]: torch.Size([64, 1, 28, 28])\n",
            "Shape of X[N, C. H. W]: torch.Size([64, 1, 28, 28])\n",
            "Shape of X[N, C. H. W]: torch.Size([64, 1, 28, 28])\n",
            "Shape of X[N, C. H. W]: torch.Size([64, 1, 28, 28])\n",
            "Shape of X[N, C. H. W]: torch.Size([64, 1, 28, 28])\n",
            "Shape of X[N, C. H. W]: torch.Size([64, 1, 28, 28])\n",
            "Shape of X[N, C. H. W]: torch.Size([64, 1, 28, 28])\n",
            "Shape of X[N, C. H. W]: torch.Size([64, 1, 28, 28])\n",
            "Shape of X[N, C. H. W]: torch.Size([64, 1, 28, 28])\n",
            "Shape of X[N, C. H. W]: torch.Size([64, 1, 28, 28])\n",
            "Shape of X[N, C. H. W]: torch.Size([64, 1, 28, 28])\n",
            "Shape of X[N, C. H. W]: torch.Size([64, 1, 28, 28])\n",
            "Shape of X[N, C. H. W]: torch.Size([64, 1, 28, 28])\n",
            "Shape of X[N, C. H. W]: torch.Size([64, 1, 28, 28])\n",
            "Shape of X[N, C. H. W]: torch.Size([64, 1, 28, 28])\n",
            "Shape of X[N, C. H. W]: torch.Size([64, 1, 28, 28])\n",
            "Shape of X[N, C. H. W]: torch.Size([64, 1, 28, 28])\n",
            "Shape of X[N, C. H. W]: torch.Size([64, 1, 28, 28])\n",
            "Shape of X[N, C. H. W]: torch.Size([64, 1, 28, 28])\n",
            "Shape of X[N, C. H. W]: torch.Size([64, 1, 28, 28])\n",
            "Shape of X[N, C. H. W]: torch.Size([64, 1, 28, 28])\n",
            "Shape of X[N, C. H. W]: torch.Size([64, 1, 28, 28])\n",
            "Shape of X[N, C. H. W]: torch.Size([64, 1, 28, 28])\n",
            "Shape of X[N, C. H. W]: torch.Size([64, 1, 28, 28])\n",
            "Shape of X[N, C. H. W]: torch.Size([64, 1, 28, 28])\n",
            "Shape of X[N, C. H. W]: torch.Size([64, 1, 28, 28])\n",
            "Shape of X[N, C. H. W]: torch.Size([64, 1, 28, 28])\n",
            "Shape of X[N, C. H. W]: torch.Size([64, 1, 28, 28])\n",
            "Shape of X[N, C. H. W]: torch.Size([64, 1, 28, 28])\n",
            "Shape of X[N, C. H. W]: torch.Size([64, 1, 28, 28])\n",
            "Shape of X[N, C. H. W]: torch.Size([64, 1, 28, 28])\n",
            "Shape of X[N, C. H. W]: torch.Size([64, 1, 28, 28])\n",
            "Shape of X[N, C. H. W]: torch.Size([64, 1, 28, 28])\n",
            "Shape of X[N, C. H. W]: torch.Size([64, 1, 28, 28])\n",
            "Shape of X[N, C. H. W]: torch.Size([64, 1, 28, 28])\n",
            "Shape of X[N, C. H. W]: torch.Size([64, 1, 28, 28])\n",
            "Shape of X[N, C. H. W]: torch.Size([64, 1, 28, 28])\n",
            "Shape of X[N, C. H. W]: torch.Size([64, 1, 28, 28])\n",
            "Shape of X[N, C. H. W]: torch.Size([64, 1, 28, 28])\n",
            "Shape of X[N, C. H. W]: torch.Size([64, 1, 28, 28])\n",
            "Shape of X[N, C. H. W]: torch.Size([64, 1, 28, 28])\n",
            "Shape of X[N, C. H. W]: torch.Size([64, 1, 28, 28])\n",
            "Shape of X[N, C. H. W]: torch.Size([64, 1, 28, 28])\n",
            "Shape of X[N, C. H. W]: torch.Size([16, 1, 28, 28])\n"
          ]
        }
      ]
    },
    {
      "cell_type": "markdown",
      "source": [
        "# Model Creation"
      ],
      "metadata": {
        "id": "uEmatG9yHHSl"
      }
    },
    {
      "cell_type": "code",
      "source": [
        "device = \"cpu\"\n",
        "\n",
        "class NeuralNetwork(nn.Module):\n",
        "  def __init__(self):\n",
        "    super().__init__()\n",
        "    self.flatten = nn.Flatten()\n",
        "    self.linear_relu_stack = nn.Sequential(\n",
        "        nn.Linear(28*28, 512),\n",
        "        nn.ReLU(),\n",
        "        nn.Linear(512, 512),\n",
        "        nn.ReLU(),\n",
        "        nn.Linear(512, 10),\n",
        "        nn.ReLU(),\n",
        "    )\n",
        "\n",
        "  def forward(self, x):\n",
        "    x = self.flatten(x)\n",
        "    logits = self.linear_relu_stack(x)\n",
        "    return logits\n",
        "\n",
        "model = NeuralNetwork().to(device)"
      ],
      "metadata": {
        "id": "YaxmAGYFHKNG"
      },
      "execution_count": 55,
      "outputs": []
    },
    {
      "cell_type": "code",
      "source": [
        "loss_fn = nn.CrossEntropyLoss()\n",
        "optimizer = torch.optim.SGD(model.parameters(), lr=0.001)"
      ],
      "metadata": {
        "id": "1EHAyhyPj3uv"
      },
      "execution_count": 56,
      "outputs": []
    },
    {
      "cell_type": "markdown",
      "source": [
        "# Training and Test Functions"
      ],
      "metadata": {
        "id": "xzpEChm7lbDf"
      }
    },
    {
      "cell_type": "code",
      "source": [
        "def train(dataloader, model, loss_fn, optimizer):\n",
        "  size = len(dataloader.dataset)\n",
        "  model.train()\n",
        "  for batch, (X, y) in enumerate(dataloader):\n",
        "    X, y = X.to(device), y.to(device)\n",
        "\n",
        "    pred = model(X)\n",
        "    loss = loss_fn(pred, y)\n",
        "\n",
        "    loss.backward()\n",
        "    optimizer.step()\n",
        "\n",
        "    optimizer.zero_grad()\n",
        "\n",
        "    if batch % 100 ==0:\n",
        "      loss = loss.item()\n",
        "      current_input = batch * len(X)\n",
        "      print(f\"loss: {loss:>7f} [{current_input:>5d}/{size:>5d}]\")"
      ],
      "metadata": {
        "id": "LnDZ9I_pknLn"
      },
      "execution_count": 57,
      "outputs": []
    },
    {
      "cell_type": "code",
      "source": [
        "def test(dataloader, model, loss_fn):\n",
        "  size = len(dataloader.dataset)\n",
        "  num_batches = len(dataloader)\n",
        "  model.eval()\n",
        "\n",
        "  test_loss = 0\n",
        "  correct = 0\n",
        "\n",
        "  with torch.no_grad():\n",
        "    for X, y in dataloader:\n",
        "      X, y = X.to(device), y.to(device)\n",
        "      pred = model(X)\n",
        "\n",
        "      test_loss = test_loss + loss_fn(pred, y).item()\n",
        "\n",
        "      correct_numbers_in_batch = (pred.argmax(1) == y).type(torch.float).sum().item()\n",
        "      correct = correct + correct_numbers_in_batch\n",
        "\n",
        "    test_loss = test_loss / num_batches\n",
        "    correct = correct / size\n",
        "\n",
        "    print(f\"Test Error: \\n Accuracy: (correct / # of images) {(100*correct):>0.1f}%, Average loss: {test_loss:>8f} \\n\")"
      ],
      "metadata": {
        "id": "3zvsPXsTw2bg"
      },
      "execution_count": 58,
      "outputs": []
    },
    {
      "cell_type": "markdown",
      "source": [
        "# Main Training"
      ],
      "metadata": {
        "id": "YjCkCzGxpTAs"
      }
    },
    {
      "cell_type": "code",
      "source": [
        "epochs = 5\n",
        "for t in range (epochs):\n",
        "  print(f\"Epoch {t+1}\\n ===================\")\n",
        "  train(train_dataloader, model, loss_fn, optimizer)\n",
        "\n",
        "print(\"Training is finished!\")"
      ],
      "metadata": {
        "colab": {
          "base_uri": "https://localhost:8080/"
        },
        "id": "kWDhZC9BpXlk",
        "outputId": "ce2d0361-21f9-42cb-ac21-4d530f217b7e"
      },
      "execution_count": 59,
      "outputs": [
        {
          "output_type": "stream",
          "name": "stdout",
          "text": [
            "Epoch 1\n",
            " ===================\n",
            "loss: 2.308229 [    0/60000]\n",
            "loss: 2.298836 [ 6400/60000]\n",
            "loss: 2.288824 [12800/60000]\n",
            "loss: 2.283774 [19200/60000]\n",
            "loss: 2.268425 [25600/60000]\n",
            "loss: 2.257669 [32000/60000]\n",
            "loss: 2.269304 [38400/60000]\n",
            "loss: 2.252095 [44800/60000]\n",
            "loss: 2.242318 [51200/60000]\n",
            "loss: 2.224394 [57600/60000]\n",
            "Epoch 2\n",
            " ===================\n",
            "loss: 2.234008 [    0/60000]\n",
            "loss: 2.213693 [ 6400/60000]\n",
            "loss: 2.194025 [12800/60000]\n",
            "loss: 2.210652 [19200/60000]\n",
            "loss: 2.168067 [25600/60000]\n",
            "loss: 2.154010 [32000/60000]\n",
            "loss: 2.186394 [38400/60000]\n",
            "loss: 2.153684 [44800/60000]\n",
            "loss: 2.145775 [51200/60000]\n",
            "loss: 2.103609 [57600/60000]\n",
            "Epoch 3\n",
            " ===================\n",
            "loss: 2.122883 [    0/60000]\n",
            "loss: 2.075394 [ 6400/60000]\n",
            "loss: 2.042830 [12800/60000]\n",
            "loss: 2.095261 [19200/60000]\n",
            "loss: 2.002237 [25600/60000]\n",
            "loss: 1.992180 [32000/60000]\n",
            "loss: 2.049813 [38400/60000]\n",
            "loss: 1.996623 [44800/60000]\n",
            "loss: 2.004661 [51200/60000]\n",
            "loss: 1.924100 [57600/60000]\n",
            "Epoch 4\n",
            " ===================\n",
            "loss: 1.963498 [    0/60000]\n",
            "loss: 1.877393 [ 6400/60000]\n",
            "loss: 1.840453 [12800/60000]\n",
            "loss: 1.940136 [19200/60000]\n",
            "loss: 1.811961 [25600/60000]\n",
            "loss: 1.811679 [32000/60000]\n",
            "loss: 1.892538 [38400/60000]\n",
            "loss: 1.839906 [44800/60000]\n",
            "loss: 1.866104 [51200/60000]\n",
            "loss: 1.742803 [57600/60000]\n",
            "Epoch 5\n",
            " ===================\n",
            "loss: 1.813960 [    0/60000]\n",
            "loss: 1.701124 [ 6400/60000]\n",
            "loss: 1.671204 [12800/60000]\n",
            "loss: 1.802625 [19200/60000]\n",
            "loss: 1.682762 [25600/60000]\n",
            "loss: 1.679286 [32000/60000]\n",
            "loss: 1.764027 [38400/60000]\n",
            "loss: 1.729469 [44800/60000]\n",
            "loss: 1.762972 [51200/60000]\n",
            "loss: 1.606339 [57600/60000]\n",
            "Training is finished!\n"
          ]
        }
      ]
    },
    {
      "cell_type": "markdown",
      "source": [
        "# Using the Model to predict"
      ],
      "metadata": {
        "id": "ponVNv0V495J"
      }
    },
    {
      "cell_type": "code",
      "source": [
        "from PIL import Image\n",
        "from torchvision import transforms\n",
        "\n",
        "image = Image.open(\"tshirt.jpg\").convert(\"RGB\")\n",
        "\n",
        "transform = transforms.Compose([\n",
        "    transforms.Grayscale(1),\n",
        "    transforms.Resize((28,28)),\n",
        "    transforms.ToTensor(),\n",
        "    transforms.Normalize((0.5), (0.5))\n",
        "])\n",
        "\n",
        "\n",
        "image = transform(image)\n",
        "print(f\"Shape of image: {image.shape}\")\n",
        "image = image.unsqueeze(0)\n",
        "print(f\"Shape of image: {image.shape}\")\n",
        "\n",
        "with torch.no_grad():\n",
        "  pred = model(image)\n",
        "\n",
        "probabilities = torch.nn.functional.softmax(pred, dim=1)\n",
        "print(f\"Probabilities: {probabilities}\")\n",
        "\n",
        "predicted_label = probabilities.argmax(1).item()\n",
        "print(f\"Predicted label: {labels_map[predicted_label]}\")"
      ],
      "metadata": {
        "colab": {
          "base_uri": "https://localhost:8080/"
        },
        "id": "RqntjkTd44n5",
        "outputId": "97e9b2d3-71b5-42aa-e3eb-99462df36e91"
      },
      "execution_count": 83,
      "outputs": [
        {
          "output_type": "stream",
          "name": "stdout",
          "text": [
            "Shape of image: torch.Size([1, 28, 28])\n",
            "Shape of image: torch.Size([1, 1, 28, 28])\n",
            "Probabilities: tensor([[0.0383, 0.0246, 0.0246, 0.0246, 0.0861, 0.0246, 0.0922, 0.0360, 0.5535,\n",
            "         0.0954]])\n",
            "Predicted label: Bag\n"
          ]
        }
      ]
    }
  ]
}
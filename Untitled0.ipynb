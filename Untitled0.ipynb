{
  "nbformat": 4,
  "nbformat_minor": 0,
  "metadata": {
    "colab": {
      "provenance": [],
      "collapsed_sections": [
        "LwCGG-cNpbD6",
        "aMGSHuZD3HYY",
        "uEmatG9yHHSl",
        "YjCkCzGxpTAs"
      ],
      "authorship_tag": "ABX9TyNJKf4uqxTsopAvZIDokxOK",
      "include_colab_link": true
    },
    "kernelspec": {
      "name": "python3",
      "display_name": "Python 3"
    },
    "language_info": {
      "name": "python"
    }
  },
  "cells": [
    {
      "cell_type": "markdown",
      "metadata": {
        "id": "view-in-github",
        "colab_type": "text"
      },
      "source": [
        "<a href=\"https://colab.research.google.com/github/RowanWA/Machine-Learning/blob/main/Untitled0.ipynb\" target=\"_parent\"><img src=\"https://colab.research.google.com/assets/colab-badge.svg\" alt=\"Open In Colab\"/></a>"
      ]
    },
    {
      "cell_type": "markdown",
      "source": [
        "# Imports\n"
      ],
      "metadata": {
        "id": "aMGSHuZD3HYY"
      }
    },
    {
      "cell_type": "code",
      "source": [
        "# torch imports\n",
        "import torch\n",
        "from torch import nn\n",
        "from torch.utils.data import DataLoader\n",
        "\n",
        "# torchvision imports\n",
        "from torchvision import datasets\n",
        "from torchvision.transforms import ToTensor\n",
        "from torchvision import transforms\n",
        "\n",
        "from torchvision.datasets import ImageFolder\n",
        "\n",
        "# google drive connect\n",
        "from google.colab import drive\n",
        "drive.mount('/content/drive')"
      ],
      "metadata": {
        "id": "v9_TxUQs3d0v",
        "colab": {
          "base_uri": "https://localhost:8080/"
        },
        "outputId": "cdbc8ba8-7dc2-4e72-c7f5-049af77baa89"
      },
      "execution_count": 117,
      "outputs": [
        {
          "output_type": "stream",
          "name": "stdout",
          "text": [
            "Drive already mounted at /content/drive; to attempt to forcibly remount, call drive.mount(\"/content/drive\", force_remount=True).\n"
          ]
        }
      ]
    },
    {
      "cell_type": "markdown",
      "source": [
        "# Data Loading"
      ],
      "metadata": {
        "id": "kUuedEUv3fZ4"
      }
    },
    {
      "cell_type": "code",
      "source": [
        "transform = transforms.Compose([\n",
        "    transforms.RandomRotation(20),\n",
        "    transforms.Grayscale(1),\n",
        "    transforms.Resize((153,204)),\n",
        "    transforms.ToTensor(),\n",
        "    transforms.Normalize((0.5,), (0.5,))\n",
        "])\n",
        "\n",
        "transform_two = transforms.Compose([\n",
        "    transforms.RandomRotation(20),\n",
        "    transforms.Grayscale(1),\n",
        "    transforms.Resize((153,204)),\n",
        "    transforms.RandomHorizontalFlip(0.5),\n",
        "    transforms.ToTensor(),\n",
        "    transforms.Normalize((0.5,), (0.5,))\n",
        "])\n",
        "\n",
        "# transform_three = transforms.Compose([\n",
        "#     transforms.RandomRotation(20),\n",
        "#     transforms.Resize((153,204)),\n",
        "#     transforms.ColorJitter(brightness=1, contrast=1, saturation=0, hue=0.2),\n",
        "#     transforms.ToTensor(),\n",
        "#     transforms.Normalize((0.5,0.5,0.5), (0.5,0.5,0.5))\n",
        "# ])\n",
        "\n",
        "# transform_four = transforms.Compose([\n",
        "#     transforms.RandomRotation(20),\n",
        "#     transforms.Resize((153,204)),\n",
        "#     transforms.Grayscale(1),\n",
        "#     transforms.RandomHorizontalFlip(0.5),\n",
        "#     transforms.ToTensor(),\n",
        "#     transforms.Normalize((0.5,0.5,0.5), (0.5,0.5,0.5))\n",
        "# ])\n",
        "\n",
        "data_one = datasets.ImageFolder(root=\"/content/drive/MyDrive/ml/pictures\", transform=transform)\n",
        "data_two = datasets.ImageFolder(root=\"/content/drive/MyDrive/ml/pictures\", transform=transform_two)\n",
        "# data_three = datasets.ImageFolder(root=\"/content/drive/MyDrive/ml/pictures\", transform=transform_three)\n",
        "\n",
        "all_data = data_one + data_two"
      ],
      "metadata": {
        "id": "JJn7n34E3lcu"
      },
      "execution_count": 139,
      "outputs": []
    },
    {
      "cell_type": "code",
      "source": [
        "traning_data_size = int(0.8 * len(all_data))\n",
        "test_data_size = len(all_data) - traning_data_size\n",
        "\n",
        "train_dataset, test_dataset = torch.utils.data.random_split(all_data, [traning_data_size, test_data_size])"
      ],
      "metadata": {
        "id": "EDCemz6N9Px6"
      },
      "execution_count": 140,
      "outputs": []
    },
    {
      "cell_type": "code",
      "source": [
        "import matplotlib.pyplot as plt\n",
        "labels_map = {\n",
        "\n",
        "              0: \"Seats\",\n",
        "              1: \"Trees\",\n",
        "              2: \"Windows\",\n",
        "}\n"
      ],
      "metadata": {
        "id": "n1l2GVPU7mkV"
      },
      "execution_count": 133,
      "outputs": []
    },
    {
      "cell_type": "code",
      "source": [
        "batch_size = 8\n",
        "\n",
        "train_dataloader = DataLoader(train_dataset, batch_size=batch_size)\n",
        "\n",
        "test_dataloader = DataLoader(test_dataset, batch_size=batch_size)\n",
        "\n",
        "for X in train_dataloader:\n",
        "  print (f\"Shape of X[N, C. H. W]: {X[0].shape}\")"
      ],
      "metadata": {
        "colab": {
          "base_uri": "https://localhost:8080/"
        },
        "id": "HRH-2E4BBMIR",
        "outputId": "a5242977-3236-4d70-83fb-c9b6c177ff0b"
      },
      "execution_count": 141,
      "outputs": [
        {
          "output_type": "stream",
          "name": "stdout",
          "text": [
            "Shape of X[N, C. H. W]: torch.Size([8, 1, 153, 204])\n",
            "Shape of X[N, C. H. W]: torch.Size([8, 1, 153, 204])\n",
            "Shape of X[N, C. H. W]: torch.Size([8, 1, 153, 204])\n",
            "Shape of X[N, C. H. W]: torch.Size([8, 1, 153, 204])\n",
            "Shape of X[N, C. H. W]: torch.Size([8, 1, 153, 204])\n",
            "Shape of X[N, C. H. W]: torch.Size([8, 1, 153, 204])\n",
            "Shape of X[N, C. H. W]: torch.Size([8, 1, 153, 204])\n",
            "Shape of X[N, C. H. W]: torch.Size([8, 1, 153, 204])\n",
            "Shape of X[N, C. H. W]: torch.Size([8, 1, 153, 204])\n",
            "Shape of X[N, C. H. W]: torch.Size([8, 1, 153, 204])\n",
            "Shape of X[N, C. H. W]: torch.Size([8, 1, 153, 204])\n",
            "Shape of X[N, C. H. W]: torch.Size([8, 1, 153, 204])\n",
            "Shape of X[N, C. H. W]: torch.Size([8, 1, 153, 204])\n",
            "Shape of X[N, C. H. W]: torch.Size([8, 1, 153, 204])\n",
            "Shape of X[N, C. H. W]: torch.Size([8, 1, 153, 204])\n",
            "Shape of X[N, C. H. W]: torch.Size([8, 1, 153, 204])\n",
            "Shape of X[N, C. H. W]: torch.Size([8, 1, 153, 204])\n",
            "Shape of X[N, C. H. W]: torch.Size([8, 1, 153, 204])\n",
            "Shape of X[N, C. H. W]: torch.Size([8, 1, 153, 204])\n",
            "Shape of X[N, C. H. W]: torch.Size([1, 1, 153, 204])\n"
          ]
        }
      ]
    },
    {
      "cell_type": "markdown",
      "source": [
        "# Model Creation"
      ],
      "metadata": {
        "id": "uEmatG9yHHSl"
      }
    },
    {
      "cell_type": "code",
      "source": [
        "device = \"cpu\"\n",
        "\n",
        "class NeuralNetwork(nn.Module):\n",
        "  def __init__(self):\n",
        "    super().__init__()\n",
        "    self.flatten = nn.Flatten()\n",
        "    self.linear_relu_stack = nn.Sequential(\n",
        "        nn.Linear(153*204, 512),\n",
        "        # nn.Linear(153*204*3, 512),\n",
        "        nn.ReLU(),\n",
        "        nn.Linear(512, 512),\n",
        "        nn.ReLU(),\n",
        "        nn.Linear(512, 3),\n",
        "    )\n",
        "\n",
        "  def forward(self, x):\n",
        "    x = self.flatten(x)\n",
        "    logits = self.linear_relu_stack(x)\n",
        "    return logits\n",
        "\n",
        "model = NeuralNetwork().to(device)"
      ],
      "metadata": {
        "id": "YaxmAGYFHKNG"
      },
      "execution_count": 128,
      "outputs": []
    },
    {
      "cell_type": "code",
      "source": [
        "loss_fn = nn.CrossEntropyLoss()\n",
        "optimizer = torch.optim.SGD(model.parameters(), lr=0.001)"
      ],
      "metadata": {
        "id": "1EHAyhyPj3uv"
      },
      "execution_count": 126,
      "outputs": []
    },
    {
      "cell_type": "markdown",
      "source": [
        "# Training and Test Functions"
      ],
      "metadata": {
        "id": "xzpEChm7lbDf"
      }
    },
    {
      "cell_type": "code",
      "source": [
        "def train(dataloader, model, loss_fn, optimizer):\n",
        "  size = len(dataloader.dataset)\n",
        "  model.train()\n",
        "  for batch, (X, y) in enumerate(dataloader):\n",
        "    X, y = X.to(device), y.to(device)\n",
        "\n",
        "    pred = model(X)\n",
        "    loss = loss_fn(pred, y)\n",
        "\n",
        "    loss.backward()\n",
        "    optimizer.step()\n",
        "\n",
        "    optimizer.zero_grad()\n",
        "\n",
        "    if batch % 2 == 0:\n",
        "      loss = loss.item()\n",
        "      current_input = batch * len(X)\n",
        "      print(f\"loss: {loss:>7f} [{current_input:>5d}/{size:>5d}]\")"
      ],
      "metadata": {
        "id": "LnDZ9I_pknLn"
      },
      "execution_count": null,
      "outputs": []
    },
    {
      "cell_type": "code",
      "source": [
        "def test(dataloader, model, loss_fn):\n",
        "  size = len(dataloader.dataset)\n",
        "  num_batches = len(dataloader)\n",
        "  model.eval()\n",
        "\n",
        "  test_loss = 0\n",
        "  correct = 0\n",
        "\n",
        "  with torch.no_grad():\n",
        "    for X, y in dataloader:\n",
        "      X, y = X.to(device), y.to(device)\n",
        "      pred = model(X)\n",
        "\n",
        "      test_loss = test_loss + loss_fn(pred, y).item()\n",
        "\n",
        "      correct_numbers_in_batch = (pred.argmax(1) == y).type(torch.float).sum().item()\n",
        "      correct = correct + correct_numbers_in_batch\n",
        "\n",
        "    test_loss = test_loss / num_batches\n",
        "    correct = correct / size\n",
        "\n",
        "    print(f\"Test Error: \\n Accuracy: (correct / # of images) {(100*correct):>0.1f}%, Average loss: {test_loss:>8f} \\n\")"
      ],
      "metadata": {
        "id": "3zvsPXsTw2bg"
      },
      "execution_count": null,
      "outputs": []
    },
    {
      "cell_type": "markdown",
      "source": [
        "# Main Training"
      ],
      "metadata": {
        "id": "YjCkCzGxpTAs"
      }
    },
    {
      "cell_type": "code",
      "source": [
        "epochs = 15\n",
        "for t in range (epochs):\n",
        "  print(f\"Epoch {t+1}\\n ===================\")\n",
        "  train(train_dataloader, model, loss_fn, optimizer)\n",
        "  test(test_dataloader, model, loss_fn)\n",
        "\n",
        "print(\"Training is finished!\")"
      ],
      "metadata": {
        "colab": {
          "base_uri": "https://localhost:8080/"
        },
        "id": "kWDhZC9BpXlk",
        "outputId": "1ba8fd47-e8f0-44e6-e27a-c09d5447270b"
      },
      "execution_count": 142,
      "outputs": [
        {
          "output_type": "stream",
          "name": "stdout",
          "text": [
            "Epoch 1\n",
            " ===================\n",
            "loss: 1.101301 [    0/  153]\n",
            "loss: 1.088495 [   16/  153]\n",
            "loss: 1.114765 [   32/  153]\n",
            "loss: 1.114551 [   48/  153]\n",
            "loss: 1.083342 [   64/  153]\n",
            "loss: 1.103598 [   80/  153]\n",
            "loss: 1.106190 [   96/  153]\n",
            "loss: 1.095205 [  112/  153]\n",
            "loss: 1.102511 [  128/  153]\n",
            "loss: 1.096251 [  144/  153]\n",
            "Test Error: \n",
            " Accuracy: (correct / # of images) 20.5%, Average loss: 1.111230 \n",
            "\n",
            "Epoch 2\n",
            " ===================\n",
            "loss: 1.107147 [    0/  153]\n",
            "loss: 1.087993 [   16/  153]\n",
            "loss: 1.106393 [   32/  153]\n",
            "loss: 1.114582 [   48/  153]\n",
            "loss: 1.093840 [   64/  153]\n",
            "loss: 1.090443 [   80/  153]\n",
            "loss: 1.102094 [   96/  153]\n",
            "loss: 1.097124 [  112/  153]\n",
            "loss: 1.096027 [  128/  153]\n",
            "loss: 1.125651 [  144/  153]\n",
            "Test Error: \n",
            " Accuracy: (correct / # of images) 28.2%, Average loss: 1.106588 \n",
            "\n",
            "Epoch 3\n",
            " ===================\n",
            "loss: 1.115289 [    0/  153]\n",
            "loss: 1.088121 [   16/  153]\n",
            "loss: 1.115120 [   32/  153]\n",
            "loss: 1.094118 [   48/  153]\n",
            "loss: 1.090933 [   64/  153]\n",
            "loss: 1.099586 [   80/  153]\n",
            "loss: 1.085012 [   96/  153]\n",
            "loss: 1.086694 [  112/  153]\n",
            "loss: 1.091486 [  128/  153]\n",
            "loss: 1.113688 [  144/  153]\n",
            "Test Error: \n",
            " Accuracy: (correct / # of images) 28.2%, Average loss: 1.104168 \n",
            "\n",
            "Epoch 4\n",
            " ===================\n",
            "loss: 1.106418 [    0/  153]\n",
            "loss: 1.099531 [   16/  153]\n",
            "loss: 1.107282 [   32/  153]\n",
            "loss: 1.111288 [   48/  153]\n",
            "loss: 1.094903 [   64/  153]\n",
            "loss: 1.102695 [   80/  153]\n",
            "loss: 1.105736 [   96/  153]\n",
            "loss: 1.090493 [  112/  153]\n",
            "loss: 1.089181 [  128/  153]\n",
            "loss: 1.093359 [  144/  153]\n",
            "Test Error: \n",
            " Accuracy: (correct / # of images) 23.1%, Average loss: 1.103822 \n",
            "\n",
            "Epoch 5\n",
            " ===================\n",
            "loss: 1.114120 [    0/  153]\n",
            "loss: 1.101715 [   16/  153]\n",
            "loss: 1.113616 [   32/  153]\n",
            "loss: 1.110055 [   48/  153]\n",
            "loss: 1.087063 [   64/  153]\n",
            "loss: 1.109308 [   80/  153]\n",
            "loss: 1.094692 [   96/  153]\n",
            "loss: 1.095945 [  112/  153]\n",
            "loss: 1.087895 [  128/  153]\n",
            "loss: 1.113613 [  144/  153]\n",
            "Test Error: \n",
            " Accuracy: (correct / # of images) 30.8%, Average loss: 1.103580 \n",
            "\n",
            "Epoch 6\n",
            " ===================\n",
            "loss: 1.110675 [    0/  153]\n",
            "loss: 1.095021 [   16/  153]\n",
            "loss: 1.113377 [   32/  153]\n",
            "loss: 1.107596 [   48/  153]\n",
            "loss: 1.087930 [   64/  153]\n",
            "loss: 1.104743 [   80/  153]\n",
            "loss: 1.103716 [   96/  153]\n",
            "loss: 1.096512 [  112/  153]\n",
            "loss: 1.091947 [  128/  153]\n",
            "loss: 1.115752 [  144/  153]\n",
            "Test Error: \n",
            " Accuracy: (correct / # of images) 41.0%, Average loss: 1.105852 \n",
            "\n",
            "Epoch 7\n",
            " ===================\n",
            "loss: 1.090065 [    0/  153]\n",
            "loss: 1.083216 [   16/  153]\n",
            "loss: 1.112330 [   32/  153]\n",
            "loss: 1.108799 [   48/  153]\n",
            "loss: 1.092877 [   64/  153]\n",
            "loss: 1.098628 [   80/  153]\n",
            "loss: 1.094794 [   96/  153]\n",
            "loss: 1.085259 [  112/  153]\n",
            "loss: 1.091497 [  128/  153]\n",
            "loss: 1.107386 [  144/  153]\n",
            "Test Error: \n",
            " Accuracy: (correct / # of images) 23.1%, Average loss: 1.105075 \n",
            "\n",
            "Epoch 8\n",
            " ===================\n",
            "loss: 1.100256 [    0/  153]\n",
            "loss: 1.093231 [   16/  153]\n",
            "loss: 1.105711 [   32/  153]\n",
            "loss: 1.110290 [   48/  153]\n",
            "loss: 1.085992 [   64/  153]\n",
            "loss: 1.099177 [   80/  153]\n",
            "loss: 1.115670 [   96/  153]\n",
            "loss: 1.084123 [  112/  153]\n",
            "loss: 1.098527 [  128/  153]\n",
            "loss: 1.097142 [  144/  153]\n",
            "Test Error: \n",
            " Accuracy: (correct / # of images) 38.5%, Average loss: 1.104737 \n",
            "\n",
            "Epoch 9\n",
            " ===================\n",
            "loss: 1.110849 [    0/  153]\n",
            "loss: 1.093507 [   16/  153]\n",
            "loss: 1.111467 [   32/  153]\n",
            "loss: 1.102301 [   48/  153]\n",
            "loss: 1.102613 [   64/  153]\n",
            "loss: 1.102289 [   80/  153]\n",
            "loss: 1.104985 [   96/  153]\n",
            "loss: 1.095690 [  112/  153]\n",
            "loss: 1.098865 [  128/  153]\n",
            "loss: 1.102345 [  144/  153]\n",
            "Test Error: \n",
            " Accuracy: (correct / # of images) 28.2%, Average loss: 1.102764 \n",
            "\n",
            "Epoch 10\n",
            " ===================\n",
            "loss: 1.100451 [    0/  153]\n",
            "loss: 1.087511 [   16/  153]\n",
            "loss: 1.105962 [   32/  153]\n",
            "loss: 1.110455 [   48/  153]\n",
            "loss: 1.100413 [   64/  153]\n",
            "loss: 1.111358 [   80/  153]\n",
            "loss: 1.101507 [   96/  153]\n",
            "loss: 1.082421 [  112/  153]\n",
            "loss: 1.090799 [  128/  153]\n",
            "loss: 1.114320 [  144/  153]\n",
            "Test Error: \n",
            " Accuracy: (correct / # of images) 33.3%, Average loss: 1.105761 \n",
            "\n",
            "Epoch 11\n",
            " ===================\n",
            "loss: 1.093143 [    0/  153]\n",
            "loss: 1.086675 [   16/  153]\n",
            "loss: 1.105873 [   32/  153]\n",
            "loss: 1.106371 [   48/  153]\n",
            "loss: 1.089741 [   64/  153]\n",
            "loss: 1.087394 [   80/  153]\n",
            "loss: 1.109111 [   96/  153]\n",
            "loss: 1.087145 [  112/  153]\n",
            "loss: 1.094573 [  128/  153]\n",
            "loss: 1.098900 [  144/  153]\n",
            "Test Error: \n",
            " Accuracy: (correct / # of images) 20.5%, Average loss: 1.109735 \n",
            "\n",
            "Epoch 12\n",
            " ===================\n",
            "loss: 1.112759 [    0/  153]\n",
            "loss: 1.097173 [   16/  153]\n",
            "loss: 1.112073 [   32/  153]\n",
            "loss: 1.097433 [   48/  153]\n",
            "loss: 1.087864 [   64/  153]\n",
            "loss: 1.101251 [   80/  153]\n",
            "loss: 1.090966 [   96/  153]\n",
            "loss: 1.093356 [  112/  153]\n",
            "loss: 1.094995 [  128/  153]\n",
            "loss: 1.112203 [  144/  153]\n",
            "Test Error: \n",
            " Accuracy: (correct / # of images) 23.1%, Average loss: 1.108336 \n",
            "\n",
            "Epoch 13\n",
            " ===================\n",
            "loss: 1.091258 [    0/  153]\n",
            "loss: 1.098994 [   16/  153]\n",
            "loss: 1.108788 [   32/  153]\n",
            "loss: 1.106708 [   48/  153]\n",
            "loss: 1.095853 [   64/  153]\n",
            "loss: 1.103177 [   80/  153]\n",
            "loss: 1.099608 [   96/  153]\n",
            "loss: 1.105817 [  112/  153]\n",
            "loss: 1.082192 [  128/  153]\n",
            "loss: 1.093407 [  144/  153]\n",
            "Test Error: \n",
            " Accuracy: (correct / # of images) 30.8%, Average loss: 1.105188 \n",
            "\n",
            "Epoch 14\n",
            " ===================\n",
            "loss: 1.104266 [    0/  153]\n",
            "loss: 1.099946 [   16/  153]\n",
            "loss: 1.095443 [   32/  153]\n",
            "loss: 1.100900 [   48/  153]\n",
            "loss: 1.094730 [   64/  153]\n",
            "loss: 1.097172 [   80/  153]\n",
            "loss: 1.105979 [   96/  153]\n",
            "loss: 1.084461 [  112/  153]\n",
            "loss: 1.096446 [  128/  153]\n",
            "loss: 1.113852 [  144/  153]\n",
            "Test Error: \n",
            " Accuracy: (correct / # of images) 28.2%, Average loss: 1.103873 \n",
            "\n",
            "Epoch 15\n",
            " ===================\n",
            "loss: 1.113416 [    0/  153]\n",
            "loss: 1.104563 [   16/  153]\n",
            "loss: 1.104145 [   32/  153]\n",
            "loss: 1.104393 [   48/  153]\n",
            "loss: 1.094160 [   64/  153]\n",
            "loss: 1.108410 [   80/  153]\n",
            "loss: 1.094556 [   96/  153]\n",
            "loss: 1.078879 [  112/  153]\n",
            "loss: 1.093584 [  128/  153]\n",
            "loss: 1.114602 [  144/  153]\n",
            "Test Error: \n",
            " Accuracy: (correct / # of images) 33.3%, Average loss: 1.107807 \n",
            "\n",
            "Training is finished!\n"
          ]
        }
      ]
    },
    {
      "cell_type": "markdown",
      "source": [
        "# Using the Model to predict"
      ],
      "metadata": {
        "id": "ponVNv0V495J"
      }
    },
    {
      "cell_type": "code",
      "source": [
        "from PIL import Image\n",
        "from torchvision import transforms\n",
        "\n",
        "image = Image.open(\"/content/drive/MyDrive/ml/test.jpg\").convert(\"RGB\")\n",
        "\n",
        "transform = transforms.Compose([\n",
        "    transforms.Grayscale(1),\n",
        "    transforms.Resize((28,28)),\n",
        "    transforms.ToTensor(),\n",
        "    transforms.Normalize((0.5), (0.5))\n",
        "])\n",
        "\n",
        "\n",
        "image = transform(image)\n",
        "print(f\"Shape of image: {image.shape}\")\n",
        "image = image.unsqueeze(0)\n",
        "print(f\"Shape of image: {image.shape}\")\n",
        "\n",
        "with torch.no_grad():\n",
        "  pred = model(image)\n",
        "\n",
        "probabilities = torch.nn.functional.softmax(pred, dim=1)\n",
        "print(f\"Probabilities: {probabilities}\")\n",
        "\n",
        "predicted_label = probabilities.argmax(1).item()\n",
        "print(f\"Predicted label: {labels_map[predicted_label]}\")"
      ],
      "metadata": {
        "id": "RqntjkTd44n5"
      },
      "execution_count": null,
      "outputs": []
    },
    {
      "cell_type": "markdown",
      "source": [
        "# Saving and Loading the Model"
      ],
      "metadata": {
        "id": "zs9V-UAcVtqA"
      }
    },
    {
      "cell_type": "code",
      "source": [
        "torch.save(model.state_dict(), \"/content/drive/MyDrive/ml/firstModel.pth\")"
      ],
      "metadata": {
        "id": "witR2ofXVhbe"
      },
      "execution_count": null,
      "outputs": []
    }
  ]
}
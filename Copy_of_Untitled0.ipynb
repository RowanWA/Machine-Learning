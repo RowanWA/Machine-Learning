{
  "nbformat": 4,
  "nbformat_minor": 0,
  "metadata": {
    "colab": {
      "provenance": [],
      "collapsed_sections": [
        "LwCGG-cNpbD6",
        "aMGSHuZD3HYY",
        "uEmatG9yHHSl",
        "YjCkCzGxpTAs"
      ],
      "authorship_tag": "ABX9TyOmuO3FEYbu7Ov6MsXXd97w",
      "include_colab_link": true
    },
    "kernelspec": {
      "name": "python3",
      "display_name": "Python 3"
    },
    "language_info": {
      "name": "python"
    }
  },
  "cells": [
    {
      "cell_type": "markdown",
      "metadata": {
        "id": "view-in-github",
        "colab_type": "text"
      },
      "source": [
        "<a href=\"https://colab.research.google.com/github/RowanWA/Machine-Learning/blob/main/Copy_of_Untitled0.ipynb\" target=\"_parent\"><img src=\"https://colab.research.google.com/assets/colab-badge.svg\" alt=\"Open In Colab\"/></a>"
      ]
    },
    {
      "cell_type": "markdown",
      "source": [
        "# loading etc"
      ],
      "metadata": {
        "id": "LwCGG-cNpbD6"
      }
    },
    {
      "cell_type": "code",
      "execution_count": null,
      "metadata": {
        "colab": {
          "base_uri": "https://localhost:8080/"
        },
        "id": "EVdH1M3cxJpz",
        "outputId": "9b3e89f8-d974-472d-a25b-538a7f7ec9ce"
      },
      "outputs": [
        {
          "output_type": "stream",
          "name": "stdout",
          "text": [
            "Found existing installation: fastai 2.7.18\n",
            "Uninstalling fastai-2.7.18:\n",
            "  Successfully uninstalled fastai-2.7.18\n",
            "Requirement already satisfied: torch in /usr/local/lib/python3.11/dist-packages (2.5.1+cu124)\n",
            "Requirement already satisfied: torchaudio in /usr/local/lib/python3.11/dist-packages (2.5.1+cu124)\n",
            "Requirement already satisfied: torchvision in /usr/local/lib/python3.11/dist-packages (0.20.1+cu124)\n",
            "Collecting torchtext\n",
            "  Downloading torchtext-0.18.0-cp311-cp311-manylinux1_x86_64.whl.metadata (7.9 kB)\n",
            "Collecting torchdata\n",
            "  Downloading torchdata-0.11.0-py3-none-any.whl.metadata (6.3 kB)\n",
            "Requirement already satisfied: filelock in /usr/local/lib/python3.11/dist-packages (from torch) (3.17.0)\n",
            "Requirement already satisfied: typing-extensions>=4.8.0 in /usr/local/lib/python3.11/dist-packages (from torch) (4.12.2)\n",
            "Requirement already satisfied: networkx in /usr/local/lib/python3.11/dist-packages (from torch) (3.4.2)\n",
            "Requirement already satisfied: jinja2 in /usr/local/lib/python3.11/dist-packages (from torch) (3.1.6)\n",
            "Requirement already satisfied: fsspec in /usr/local/lib/python3.11/dist-packages (from torch) (2024.10.0)\n",
            "Collecting nvidia-cuda-nvrtc-cu12==12.4.127 (from torch)\n",
            "  Downloading nvidia_cuda_nvrtc_cu12-12.4.127-py3-none-manylinux2014_x86_64.whl.metadata (1.5 kB)\n",
            "Collecting nvidia-cuda-runtime-cu12==12.4.127 (from torch)\n",
            "  Downloading nvidia_cuda_runtime_cu12-12.4.127-py3-none-manylinux2014_x86_64.whl.metadata (1.5 kB)\n",
            "Collecting nvidia-cuda-cupti-cu12==12.4.127 (from torch)\n",
            "  Downloading nvidia_cuda_cupti_cu12-12.4.127-py3-none-manylinux2014_x86_64.whl.metadata (1.6 kB)\n",
            "Collecting nvidia-cudnn-cu12==9.1.0.70 (from torch)\n",
            "  Downloading nvidia_cudnn_cu12-9.1.0.70-py3-none-manylinux2014_x86_64.whl.metadata (1.6 kB)\n",
            "Collecting nvidia-cublas-cu12==12.4.5.8 (from torch)\n",
            "  Downloading nvidia_cublas_cu12-12.4.5.8-py3-none-manylinux2014_x86_64.whl.metadata (1.5 kB)\n",
            "Collecting nvidia-cufft-cu12==11.2.1.3 (from torch)\n",
            "  Downloading nvidia_cufft_cu12-11.2.1.3-py3-none-manylinux2014_x86_64.whl.metadata (1.5 kB)\n",
            "Collecting nvidia-curand-cu12==10.3.5.147 (from torch)\n",
            "  Downloading nvidia_curand_cu12-10.3.5.147-py3-none-manylinux2014_x86_64.whl.metadata (1.5 kB)\n",
            "Collecting nvidia-cusolver-cu12==11.6.1.9 (from torch)\n",
            "  Downloading nvidia_cusolver_cu12-11.6.1.9-py3-none-manylinux2014_x86_64.whl.metadata (1.6 kB)\n",
            "Collecting nvidia-cusparse-cu12==12.3.1.170 (from torch)\n",
            "  Downloading nvidia_cusparse_cu12-12.3.1.170-py3-none-manylinux2014_x86_64.whl.metadata (1.6 kB)\n",
            "Requirement already satisfied: nvidia-nccl-cu12==2.21.5 in /usr/local/lib/python3.11/dist-packages (from torch) (2.21.5)\n",
            "Requirement already satisfied: nvidia-nvtx-cu12==12.4.127 in /usr/local/lib/python3.11/dist-packages (from torch) (12.4.127)\n",
            "Collecting nvidia-nvjitlink-cu12==12.4.127 (from torch)\n",
            "  Downloading nvidia_nvjitlink_cu12-12.4.127-py3-none-manylinux2014_x86_64.whl.metadata (1.5 kB)\n",
            "Requirement already satisfied: triton==3.1.0 in /usr/local/lib/python3.11/dist-packages (from torch) (3.1.0)\n",
            "Requirement already satisfied: sympy==1.13.1 in /usr/local/lib/python3.11/dist-packages (from torch) (1.13.1)\n",
            "Requirement already satisfied: mpmath<1.4,>=1.1.0 in /usr/local/lib/python3.11/dist-packages (from sympy==1.13.1->torch) (1.3.0)\n",
            "Requirement already satisfied: numpy in /usr/local/lib/python3.11/dist-packages (from torchvision) (1.26.4)\n",
            "Requirement already satisfied: pillow!=8.3.*,>=5.3.0 in /usr/local/lib/python3.11/dist-packages (from torchvision) (11.1.0)\n",
            "Requirement already satisfied: tqdm in /usr/local/lib/python3.11/dist-packages (from torchtext) (4.67.1)\n",
            "Requirement already satisfied: requests in /usr/local/lib/python3.11/dist-packages (from torchtext) (2.32.3)\n",
            "Requirement already satisfied: urllib3>=1.25 in /usr/local/lib/python3.11/dist-packages (from torchdata) (2.3.0)\n",
            "Requirement already satisfied: MarkupSafe>=2.0 in /usr/local/lib/python3.11/dist-packages (from jinja2->torch) (3.0.2)\n",
            "Requirement already satisfied: charset-normalizer<4,>=2 in /usr/local/lib/python3.11/dist-packages (from requests->torchtext) (3.4.1)\n",
            "Requirement already satisfied: idna<4,>=2.5 in /usr/local/lib/python3.11/dist-packages (from requests->torchtext) (3.10)\n",
            "Requirement already satisfied: certifi>=2017.4.17 in /usr/local/lib/python3.11/dist-packages (from requests->torchtext) (2025.1.31)\n",
            "Downloading nvidia_cublas_cu12-12.4.5.8-py3-none-manylinux2014_x86_64.whl (363.4 MB)\n",
            "\u001b[2K   \u001b[90m━━━━━━━━━━━━━━━━━━━━━━━━━━━━━━━━━━━━━━━━\u001b[0m \u001b[32m363.4/363.4 MB\u001b[0m \u001b[31m3.8 MB/s\u001b[0m eta \u001b[36m0:00:00\u001b[0m\n",
            "\u001b[?25hDownloading nvidia_cuda_cupti_cu12-12.4.127-py3-none-manylinux2014_x86_64.whl (13.8 MB)\n",
            "\u001b[2K   \u001b[90m━━━━━━━━━━━━━━━━━━━━━━━━━━━━━━━━━━━━━━━━\u001b[0m \u001b[32m13.8/13.8 MB\u001b[0m \u001b[31m59.1 MB/s\u001b[0m eta \u001b[36m0:00:00\u001b[0m\n",
            "\u001b[?25hDownloading nvidia_cuda_nvrtc_cu12-12.4.127-py3-none-manylinux2014_x86_64.whl (24.6 MB)\n",
            "\u001b[2K   \u001b[90m━━━━━━━━━━━━━━━━━━━━━━━━━━━━━━━━━━━━━━━━\u001b[0m \u001b[32m24.6/24.6 MB\u001b[0m \u001b[31m32.6 MB/s\u001b[0m eta \u001b[36m0:00:00\u001b[0m\n",
            "\u001b[?25hDownloading nvidia_cuda_runtime_cu12-12.4.127-py3-none-manylinux2014_x86_64.whl (883 kB)\n",
            "\u001b[2K   \u001b[90m━━━━━━━━━━━━━━━━━━━━━━━━━━━━━━━━━━━━━━━━\u001b[0m \u001b[32m883.7/883.7 kB\u001b[0m \u001b[31m35.4 MB/s\u001b[0m eta \u001b[36m0:00:00\u001b[0m\n",
            "\u001b[?25hDownloading nvidia_cudnn_cu12-9.1.0.70-py3-none-manylinux2014_x86_64.whl (664.8 MB)\n",
            "\u001b[2K   \u001b[90m━━━━━━━━━━━━━━━━━━━━━━━━━━━━━━━━━━━━━━━━\u001b[0m \u001b[32m664.8/664.8 MB\u001b[0m \u001b[31m2.8 MB/s\u001b[0m eta \u001b[36m0:00:00\u001b[0m\n",
            "\u001b[?25hDownloading nvidia_cufft_cu12-11.2.1.3-py3-none-manylinux2014_x86_64.whl (211.5 MB)\n",
            "\u001b[2K   \u001b[90m━━━━━━━━━━━━━━━━━━━━━━━━━━━━━━━━━━━━━━━━\u001b[0m \u001b[32m211.5/211.5 MB\u001b[0m \u001b[31m5.3 MB/s\u001b[0m eta \u001b[36m0:00:00\u001b[0m\n",
            "\u001b[?25hDownloading nvidia_curand_cu12-10.3.5.147-py3-none-manylinux2014_x86_64.whl (56.3 MB)\n",
            "\u001b[2K   \u001b[90m━━━━━━━━━━━━━━━━━━━━━━━━━━━━━━━━━━━━━━━━\u001b[0m \u001b[32m56.3/56.3 MB\u001b[0m \u001b[31m13.0 MB/s\u001b[0m eta \u001b[36m0:00:00\u001b[0m\n",
            "\u001b[?25hDownloading nvidia_cusolver_cu12-11.6.1.9-py3-none-manylinux2014_x86_64.whl (127.9 MB)\n",
            "\u001b[2K   \u001b[90m━━━━━━━━━━━━━━━━━━━━━━━━━━━━━━━━━━━━━━━━\u001b[0m \u001b[32m127.9/127.9 MB\u001b[0m \u001b[31m7.2 MB/s\u001b[0m eta \u001b[36m0:00:00\u001b[0m\n",
            "\u001b[?25hDownloading nvidia_cusparse_cu12-12.3.1.170-py3-none-manylinux2014_x86_64.whl (207.5 MB)\n",
            "\u001b[2K   \u001b[90m━━━━━━━━━━━━━━━━━━━━━━━━━━━━━━━━━━━━━━━━\u001b[0m \u001b[32m207.5/207.5 MB\u001b[0m \u001b[31m6.1 MB/s\u001b[0m eta \u001b[36m0:00:00\u001b[0m\n",
            "\u001b[?25hDownloading nvidia_nvjitlink_cu12-12.4.127-py3-none-manylinux2014_x86_64.whl (21.1 MB)\n",
            "\u001b[2K   \u001b[90m━━━━━━━━━━━━━━━━━━━━━━━━━━━━━━━━━━━━━━━━\u001b[0m \u001b[32m21.1/21.1 MB\u001b[0m \u001b[31m79.4 MB/s\u001b[0m eta \u001b[36m0:00:00\u001b[0m\n",
            "\u001b[?25hDownloading torchtext-0.18.0-cp311-cp311-manylinux1_x86_64.whl (2.0 MB)\n",
            "\u001b[2K   \u001b[90m━━━━━━━━━━━━━━━━━━━━━━━━━━━━━━━━━━━━━━━━\u001b[0m \u001b[32m2.0/2.0 MB\u001b[0m \u001b[31m68.0 MB/s\u001b[0m eta \u001b[36m0:00:00\u001b[0m\n",
            "\u001b[?25hDownloading torchdata-0.11.0-py3-none-any.whl (61 kB)\n",
            "\u001b[2K   \u001b[90m━━━━━━━━━━━━━━━━━━━━━━━━━━━━━━━━━━━━━━━━\u001b[0m \u001b[32m62.0/62.0 kB\u001b[0m \u001b[31m4.9 MB/s\u001b[0m eta \u001b[36m0:00:00\u001b[0m\n",
            "\u001b[?25hInstalling collected packages: nvidia-nvjitlink-cu12, nvidia-curand-cu12, nvidia-cufft-cu12, nvidia-cuda-runtime-cu12, nvidia-cuda-nvrtc-cu12, nvidia-cuda-cupti-cu12, nvidia-cublas-cu12, nvidia-cusparse-cu12, nvidia-cudnn-cu12, nvidia-cusolver-cu12, torchtext, torchdata\n",
            "  Attempting uninstall: nvidia-nvjitlink-cu12\n",
            "    Found existing installation: nvidia-nvjitlink-cu12 12.5.82\n",
            "    Uninstalling nvidia-nvjitlink-cu12-12.5.82:\n",
            "      Successfully uninstalled nvidia-nvjitlink-cu12-12.5.82\n",
            "  Attempting uninstall: nvidia-curand-cu12\n",
            "    Found existing installation: nvidia-curand-cu12 10.3.6.82\n",
            "    Uninstalling nvidia-curand-cu12-10.3.6.82:\n",
            "      Successfully uninstalled nvidia-curand-cu12-10.3.6.82\n",
            "  Attempting uninstall: nvidia-cufft-cu12\n",
            "    Found existing installation: nvidia-cufft-cu12 11.2.3.61\n",
            "    Uninstalling nvidia-cufft-cu12-11.2.3.61:\n",
            "      Successfully uninstalled nvidia-cufft-cu12-11.2.3.61\n",
            "  Attempting uninstall: nvidia-cuda-runtime-cu12\n",
            "    Found existing installation: nvidia-cuda-runtime-cu12 12.5.82\n",
            "    Uninstalling nvidia-cuda-runtime-cu12-12.5.82:\n",
            "      Successfully uninstalled nvidia-cuda-runtime-cu12-12.5.82\n",
            "  Attempting uninstall: nvidia-cuda-nvrtc-cu12\n",
            "    Found existing installation: nvidia-cuda-nvrtc-cu12 12.5.82\n",
            "    Uninstalling nvidia-cuda-nvrtc-cu12-12.5.82:\n",
            "      Successfully uninstalled nvidia-cuda-nvrtc-cu12-12.5.82\n",
            "  Attempting uninstall: nvidia-cuda-cupti-cu12\n",
            "    Found existing installation: nvidia-cuda-cupti-cu12 12.5.82\n",
            "    Uninstalling nvidia-cuda-cupti-cu12-12.5.82:\n",
            "      Successfully uninstalled nvidia-cuda-cupti-cu12-12.5.82\n",
            "  Attempting uninstall: nvidia-cublas-cu12\n",
            "    Found existing installation: nvidia-cublas-cu12 12.5.3.2\n",
            "    Uninstalling nvidia-cublas-cu12-12.5.3.2:\n",
            "      Successfully uninstalled nvidia-cublas-cu12-12.5.3.2\n",
            "  Attempting uninstall: nvidia-cusparse-cu12\n",
            "    Found existing installation: nvidia-cusparse-cu12 12.5.1.3\n",
            "    Uninstalling nvidia-cusparse-cu12-12.5.1.3:\n",
            "      Successfully uninstalled nvidia-cusparse-cu12-12.5.1.3\n",
            "  Attempting uninstall: nvidia-cudnn-cu12\n",
            "    Found existing installation: nvidia-cudnn-cu12 9.3.0.75\n",
            "    Uninstalling nvidia-cudnn-cu12-9.3.0.75:\n",
            "      Successfully uninstalled nvidia-cudnn-cu12-9.3.0.75\n",
            "  Attempting uninstall: nvidia-cusolver-cu12\n",
            "    Found existing installation: nvidia-cusolver-cu12 11.6.3.83\n",
            "    Uninstalling nvidia-cusolver-cu12-11.6.3.83:\n",
            "      Successfully uninstalled nvidia-cusolver-cu12-11.6.3.83\n",
            "Successfully installed nvidia-cublas-cu12-12.4.5.8 nvidia-cuda-cupti-cu12-12.4.127 nvidia-cuda-nvrtc-cu12-12.4.127 nvidia-cuda-runtime-cu12-12.4.127 nvidia-cudnn-cu12-9.1.0.70 nvidia-cufft-cu12-11.2.1.3 nvidia-curand-cu12-10.3.5.147 nvidia-cusolver-cu12-11.6.1.9 nvidia-cusparse-cu12-12.3.1.170 nvidia-nvjitlink-cu12-12.4.127 torchdata-0.11.0 torchtext-0.18.0\n"
          ]
        }
      ],
      "source": [
        "!pip3 uninstall --yes fastai\n",
        "!pip3 install torch torchaudio torchvision torchtext torchdata"
      ]
    },
    {
      "cell_type": "markdown",
      "source": [
        "# Imports\n"
      ],
      "metadata": {
        "id": "aMGSHuZD3HYY"
      }
    },
    {
      "cell_type": "code",
      "source": [
        "# torch imports\n",
        "import torch\n",
        "from torch import nn\n",
        "from torch.utils.data import DataLoader\n",
        "\n",
        "# torchvision imports\n",
        "from torchvision import datasets\n",
        "from torchvision.transforms import ToTensor\n",
        "\n",
        "# google drive connect\n",
        "from google.colab import drive\n",
        "drive.mount('/content/drive')"
      ],
      "metadata": {
        "id": "v9_TxUQs3d0v",
        "colab": {
          "base_uri": "https://localhost:8080/"
        },
        "outputId": "faca8c80-fe6a-40d4-83f0-86a852d1c0d1"
      },
      "execution_count": null,
      "outputs": [
        {
          "output_type": "stream",
          "name": "stdout",
          "text": [
            "Mounted at /content/drive\n"
          ]
        }
      ]
    },
    {
      "cell_type": "markdown",
      "source": [
        "# Data Loading"
      ],
      "metadata": {
        "id": "kUuedEUv3fZ4"
      }
    },
    {
      "cell_type": "code",
      "source": [
        "traning_data = datasets.FashionMNIST(\n",
        "    root=\"data\",\n",
        "    train= True,\n",
        "    download=True,\n",
        "    transform=ToTensor()\n",
        ")\n",
        "\n",
        "#test data\n",
        "test_data = datasets.FashionMNIST(\n",
        "    root=\"data\",\n",
        "    train= False,\n",
        "    download=True,\n",
        "    transform=ToTensor()\n",
        ")"
      ],
      "metadata": {
        "id": "JJn7n34E3lcu",
        "colab": {
          "base_uri": "https://localhost:8080/"
        },
        "outputId": "eca1baf3-107c-42f1-a058-7c0d7c603c49"
      },
      "execution_count": null,
      "outputs": [
        {
          "output_type": "stream",
          "name": "stdout",
          "text": [
            "Downloading http://fashion-mnist.s3-website.eu-central-1.amazonaws.com/train-images-idx3-ubyte.gz\n",
            "Downloading http://fashion-mnist.s3-website.eu-central-1.amazonaws.com/train-images-idx3-ubyte.gz to data/FashionMNIST/raw/train-images-idx3-ubyte.gz\n"
          ]
        },
        {
          "output_type": "stream",
          "name": "stderr",
          "text": [
            "100%|██████████| 26.4M/26.4M [00:01<00:00, 18.2MB/s]\n"
          ]
        },
        {
          "output_type": "stream",
          "name": "stdout",
          "text": [
            "Extracting data/FashionMNIST/raw/train-images-idx3-ubyte.gz to data/FashionMNIST/raw\n",
            "\n",
            "Downloading http://fashion-mnist.s3-website.eu-central-1.amazonaws.com/train-labels-idx1-ubyte.gz\n",
            "Downloading http://fashion-mnist.s3-website.eu-central-1.amazonaws.com/train-labels-idx1-ubyte.gz to data/FashionMNIST/raw/train-labels-idx1-ubyte.gz\n"
          ]
        },
        {
          "output_type": "stream",
          "name": "stderr",
          "text": [
            "100%|██████████| 29.5k/29.5k [00:00<00:00, 303kB/s]\n"
          ]
        },
        {
          "output_type": "stream",
          "name": "stdout",
          "text": [
            "Extracting data/FashionMNIST/raw/train-labels-idx1-ubyte.gz to data/FashionMNIST/raw\n",
            "\n",
            "Downloading http://fashion-mnist.s3-website.eu-central-1.amazonaws.com/t10k-images-idx3-ubyte.gz\n",
            "Downloading http://fashion-mnist.s3-website.eu-central-1.amazonaws.com/t10k-images-idx3-ubyte.gz to data/FashionMNIST/raw/t10k-images-idx3-ubyte.gz\n"
          ]
        },
        {
          "output_type": "stream",
          "name": "stderr",
          "text": [
            "100%|██████████| 4.42M/4.42M [00:00<00:00, 4.94MB/s]\n"
          ]
        },
        {
          "output_type": "stream",
          "name": "stdout",
          "text": [
            "Extracting data/FashionMNIST/raw/t10k-images-idx3-ubyte.gz to data/FashionMNIST/raw\n",
            "\n",
            "Downloading http://fashion-mnist.s3-website.eu-central-1.amazonaws.com/t10k-labels-idx1-ubyte.gz\n",
            "Downloading http://fashion-mnist.s3-website.eu-central-1.amazonaws.com/t10k-labels-idx1-ubyte.gz to data/FashionMNIST/raw/t10k-labels-idx1-ubyte.gz\n"
          ]
        },
        {
          "output_type": "stream",
          "name": "stderr",
          "text": [
            "100%|██████████| 5.15k/5.15k [00:00<00:00, 17.2MB/s]\n"
          ]
        },
        {
          "output_type": "stream",
          "name": "stdout",
          "text": [
            "Extracting data/FashionMNIST/raw/t10k-labels-idx1-ubyte.gz to data/FashionMNIST/raw\n",
            "\n"
          ]
        }
      ]
    },
    {
      "cell_type": "code",
      "source": [
        "import matplotlib.pyplot as plt\n",
        "labels_map = {\n",
        "\n",
        "              0: \"T-shirt\",\n",
        "              1: \"Trousers\",\n",
        "              2: \"Pullover\",\n",
        "              3: \"Dress\",\n",
        "              4: \"Coat\",\n",
        "              5: \"Sandel\",\n",
        "              6: \"Shirt\",\n",
        "              7: \"Sneaker\",\n",
        "              8: \"Bag\",\n",
        "              9: \"Ankle Boot\",\n",
        "}\n",
        "\n",
        "figure = plt.figure(figsize=(8,8))\n",
        "cols = 3\n",
        "rows = 3\n",
        "\n",
        "for i in range (1,10):\n",
        "  random_index = torch.randint(len(traning_data), size=(1,)).item()\n",
        "  img, label = traning_data[random_index]\n",
        "  figure.add_subplot(rows, cols, i)\n",
        "  plt.title(labels_map[label])\n",
        "  plt.axis(\"off\")\n",
        "  plt.imshow(img.squeeze(), cmap=\"grey\")"
      ],
      "metadata": {
        "colab": {
          "base_uri": "https://localhost:8080/",
          "height": 675
        },
        "id": "n1l2GVPU7mkV",
        "outputId": "a93de4b2-1ded-48c3-b06f-a8cfdb0bd1f2"
      },
      "execution_count": null,
      "outputs": [
        {
          "output_type": "display_data",
          "data": {
            "text/plain": [
              "<Figure size 800x800 with 9 Axes>"
            ],
            "image/png": "[encoded data removed]"
          },
          "metadata": {}
        }
      ]
    },
    {
      "cell_type": "code",
      "source": [
        "batch_size = 64\n",
        "\n",
        "train_dataloader = DataLoader(traning_data, batch_size=batch_size)\n",
        "test_dataloader = DataLoader(test_data, batch_size=batch_size)\n",
        "\n",
        "for X in test_dataloader:\n",
        "  print (f\"Shape of X[N, C. H. W]: {X[0].shape}\")"
      ],
      "metadata": {
        "colab": {
          "base_uri": "https://localhost:8080/"
        },
        "id": "HRH-2E4BBMIR",
        "outputId": "97a649a0-f26e-42ae-ba0d-0be70e66ae48"
      },
      "execution_count": null,
      "outputs": [
        {
          "output_type": "stream",
          "name": "stdout",
          "text": [
            "Shape of X[N, C. H. W]: torch.Size([64, 1, 28, 28])\n",
            "Shape of X[N, C. H. W]: torch.Size([64, 1, 28, 28])\n",
            "Shape of X[N, C. H. W]: torch.Size([64, 1, 28, 28])\n",
            "Shape of X[N, C. H. W]: torch.Size([64, 1, 28, 28])\n",
            "Shape of X[N, C. H. W]: torch.Size([64, 1, 28, 28])\n",
            "Shape of X[N, C. H. W]: torch.Size([64, 1, 28, 28])\n",
            "Shape of X[N, C. H. W]: torch.Size([64, 1, 28, 28])\n",
            "Shape of X[N, C. H. W]: torch.Size([64, 1, 28, 28])\n",
            "Shape of X[N, C. H. W]: torch.Size([64, 1, 28, 28])\n",
            "Shape of X[N, C. H. W]: torch.Size([64, 1, 28, 28])\n",
            "Shape of X[N, C. H. W]: torch.Size([64, 1, 28, 28])\n",
            "Shape of X[N, C. H. W]: torch.Size([64, 1, 28, 28])\n",
            "Shape of X[N, C. H. W]: torch.Size([64, 1, 28, 28])\n",
            "Shape of X[N, C. H. W]: torch.Size([64, 1, 28, 28])\n",
            "Shape of X[N, C. H. W]: torch.Size([64, 1, 28, 28])\n",
            "Shape of X[N, C. H. W]: torch.Size([64, 1, 28, 28])\n",
            "Shape of X[N, C. H. W]: torch.Size([64, 1, 28, 28])\n",
            "Shape of X[N, C. H. W]: torch.Size([64, 1, 28, 28])\n",
            "Shape of X[N, C. H. W]: torch.Size([64, 1, 28, 28])\n",
            "Shape of X[N, C. H. W]: torch.Size([64, 1, 28, 28])\n",
            "Shape of X[N, C. H. W]: torch.Size([64, 1, 28, 28])\n",
            "Shape of X[N, C. H. W]: torch.Size([64, 1, 28, 28])\n",
            "Shape of X[N, C. H. W]: torch.Size([64, 1, 28, 28])\n",
            "Shape of X[N, C. H. W]: torch.Size([64, 1, 28, 28])\n",
            "Shape of X[N, C. H. W]: torch.Size([64, 1, 28, 28])\n",
            "Shape of X[N, C. H. W]: torch.Size([64, 1, 28, 28])\n",
            "Shape of X[N, C. H. W]: torch.Size([64, 1, 28, 28])\n",
            "Shape of X[N, C. H. W]: torch.Size([64, 1, 28, 28])\n",
            "Shape of X[N, C. H. W]: torch.Size([64, 1, 28, 28])\n",
            "Shape of X[N, C. H. W]: torch.Size([64, 1, 28, 28])\n",
            "Shape of X[N, C. H. W]: torch.Size([64, 1, 28, 28])\n",
            "Shape of X[N, C. H. W]: torch.Size([64, 1, 28, 28])\n",
            "Shape of X[N, C. H. W]: torch.Size([64, 1, 28, 28])\n",
            "Shape of X[N, C. H. W]: torch.Size([64, 1, 28, 28])\n",
            "Shape of X[N, C. H. W]: torch.Size([64, 1, 28, 28])\n",
            "Shape of X[N, C. H. W]: torch.Size([64, 1, 28, 28])\n",
            "Shape of X[N, C. H. W]: torch.Size([64, 1, 28, 28])\n",
            "Shape of X[N, C. H. W]: torch.Size([64, 1, 28, 28])\n",
            "Shape of X[N, C. H. W]: torch.Size([64, 1, 28, 28])\n",
            "Shape of X[N, C. H. W]: torch.Size([64, 1, 28, 28])\n",
            "Shape of X[N, C. H. W]: torch.Size([64, 1, 28, 28])\n",
            "Shape of X[N, C. H. W]: torch.Size([64, 1, 28, 28])\n",
            "Shape of X[N, C. H. W]: torch.Size([64, 1, 28, 28])\n",
            "Shape of X[N, C. H. W]: torch.Size([64, 1, 28, 28])\n",
            "Shape of X[N, C. H. W]: torch.Size([64, 1, 28, 28])\n",
            "Shape of X[N, C. H. W]: torch.Size([64, 1, 28, 28])\n",
            "Shape of X[N, C. H. W]: torch.Size([64, 1, 28, 28])\n",
            "Shape of X[N, C. H. W]: torch.Size([64, 1, 28, 28])\n",
            "Shape of X[N, C. H. W]: torch.Size([64, 1, 28, 28])\n",
            "Shape of X[N, C. H. W]: torch.Size([64, 1, 28, 28])\n",
            "Shape of X[N, C. H. W]: torch.Size([64, 1, 28, 28])\n",
            "Shape of X[N, C. H. W]: torch.Size([64, 1, 28, 28])\n",
            "Shape of X[N, C. H. W]: torch.Size([64, 1, 28, 28])\n",
            "Shape of X[N, C. H. W]: torch.Size([64, 1, 28, 28])\n",
            "Shape of X[N, C. H. W]: torch.Size([64, 1, 28, 28])\n",
            "Shape of X[N, C. H. W]: torch.Size([64, 1, 28, 28])\n",
            "Shape of X[N, C. H. W]: torch.Size([64, 1, 28, 28])\n",
            "Shape of X[N, C. H. W]: torch.Size([64, 1, 28, 28])\n",
            "Shape of X[N, C. H. W]: torch.Size([64, 1, 28, 28])\n",
            "Shape of X[N, C. H. W]: torch.Size([64, 1, 28, 28])\n",
            "Shape of X[N, C. H. W]: torch.Size([64, 1, 28, 28])\n",
            "Shape of X[N, C. H. W]: torch.Size([64, 1, 28, 28])\n",
            "Shape of X[N, C. H. W]: torch.Size([64, 1, 28, 28])\n",
            "Shape of X[N, C. H. W]: torch.Size([64, 1, 28, 28])\n",
            "Shape of X[N, C. H. W]: torch.Size([64, 1, 28, 28])\n",
            "Shape of X[N, C. H. W]: torch.Size([64, 1, 28, 28])\n",
            "Shape of X[N, C. H. W]: torch.Size([64, 1, 28, 28])\n",
            "Shape of X[N, C. H. W]: torch.Size([64, 1, 28, 28])\n",
            "Shape of X[N, C. H. W]: torch.Size([64, 1, 28, 28])\n",
            "Shape of X[N, C. H. W]: torch.Size([64, 1, 28, 28])\n",
            "Shape of X[N, C. H. W]: torch.Size([64, 1, 28, 28])\n",
            "Shape of X[N, C. H. W]: torch.Size([64, 1, 28, 28])\n",
            "Shape of X[N, C. H. W]: torch.Size([64, 1, 28, 28])\n",
            "Shape of X[N, C. H. W]: torch.Size([64, 1, 28, 28])\n",
            "Shape of X[N, C. H. W]: torch.Size([64, 1, 28, 28])\n",
            "Shape of X[N, C. H. W]: torch.Size([64, 1, 28, 28])\n",
            "Shape of X[N, C. H. W]: torch.Size([64, 1, 28, 28])\n",
            "Shape of X[N, C. H. W]: torch.Size([64, 1, 28, 28])\n",
            "Shape of X[N, C. H. W]: torch.Size([64, 1, 28, 28])\n",
            "Shape of X[N, C. H. W]: torch.Size([64, 1, 28, 28])\n",
            "Shape of X[N, C. H. W]: torch.Size([64, 1, 28, 28])\n",
            "Shape of X[N, C. H. W]: torch.Size([64, 1, 28, 28])\n",
            "Shape of X[N, C. H. W]: torch.Size([64, 1, 28, 28])\n",
            "Shape of X[N, C. H. W]: torch.Size([64, 1, 28, 28])\n",
            "Shape of X[N, C. H. W]: torch.Size([64, 1, 28, 28])\n",
            "Shape of X[N, C. H. W]: torch.Size([64, 1, 28, 28])\n",
            "Shape of X[N, C. H. W]: torch.Size([64, 1, 28, 28])\n",
            "Shape of X[N, C. H. W]: torch.Size([64, 1, 28, 28])\n",
            "Shape of X[N, C. H. W]: torch.Size([64, 1, 28, 28])\n",
            "Shape of X[N, C. H. W]: torch.Size([64, 1, 28, 28])\n",
            "Shape of X[N, C. H. W]: torch.Size([64, 1, 28, 28])\n",
            "Shape of X[N, C. H. W]: torch.Size([64, 1, 28, 28])\n",
            "Shape of X[N, C. H. W]: torch.Size([64, 1, 28, 28])\n",
            "Shape of X[N, C. H. W]: torch.Size([64, 1, 28, 28])\n",
            "Shape of X[N, C. H. W]: torch.Size([64, 1, 28, 28])\n",
            "Shape of X[N, C. H. W]: torch.Size([64, 1, 28, 28])\n",
            "Shape of X[N, C. H. W]: torch.Size([64, 1, 28, 28])\n",
            "Shape of X[N, C. H. W]: torch.Size([64, 1, 28, 28])\n",
            "Shape of X[N, C. H. W]: torch.Size([64, 1, 28, 28])\n",
            "Shape of X[N, C. H. W]: torch.Size([64, 1, 28, 28])\n",
            "Shape of X[N, C. H. W]: torch.Size([64, 1, 28, 28])\n",
            "Shape of X[N, C. H. W]: torch.Size([64, 1, 28, 28])\n",
            "Shape of X[N, C. H. W]: torch.Size([64, 1, 28, 28])\n",
            "Shape of X[N, C. H. W]: torch.Size([64, 1, 28, 28])\n",
            "Shape of X[N, C. H. W]: torch.Size([64, 1, 28, 28])\n",
            "Shape of X[N, C. H. W]: torch.Size([64, 1, 28, 28])\n",
            "Shape of X[N, C. H. W]: torch.Size([64, 1, 28, 28])\n",
            "Shape of X[N, C. H. W]: torch.Size([64, 1, 28, 28])\n",
            "Shape of X[N, C. H. W]: torch.Size([64, 1, 28, 28])\n",
            "Shape of X[N, C. H. W]: torch.Size([64, 1, 28, 28])\n",
            "Shape of X[N, C. H. W]: torch.Size([64, 1, 28, 28])\n",
            "Shape of X[N, C. H. W]: torch.Size([64, 1, 28, 28])\n",
            "Shape of X[N, C. H. W]: torch.Size([64, 1, 28, 28])\n",
            "Shape of X[N, C. H. W]: torch.Size([64, 1, 28, 28])\n",
            "Shape of X[N, C. H. W]: torch.Size([64, 1, 28, 28])\n",
            "Shape of X[N, C. H. W]: torch.Size([64, 1, 28, 28])\n",
            "Shape of X[N, C. H. W]: torch.Size([64, 1, 28, 28])\n",
            "Shape of X[N, C. H. W]: torch.Size([64, 1, 28, 28])\n",
            "Shape of X[N, C. H. W]: torch.Size([64, 1, 28, 28])\n",
            "Shape of X[N, C. H. W]: torch.Size([64, 1, 28, 28])\n",
            "Shape of X[N, C. H. W]: torch.Size([64, 1, 28, 28])\n",
            "Shape of X[N, C. H. W]: torch.Size([64, 1, 28, 28])\n",
            "Shape of X[N, C. H. W]: torch.Size([64, 1, 28, 28])\n",
            "Shape of X[N, C. H. W]: torch.Size([64, 1, 28, 28])\n",
            "Shape of X[N, C. H. W]: torch.Size([64, 1, 28, 28])\n",
            "Shape of X[N, C. H. W]: torch.Size([64, 1, 28, 28])\n",
            "Shape of X[N, C. H. W]: torch.Size([64, 1, 28, 28])\n",
            "Shape of X[N, C. H. W]: torch.Size([64, 1, 28, 28])\n",
            "Shape of X[N, C. H. W]: torch.Size([64, 1, 28, 28])\n",
            "Shape of X[N, C. H. W]: torch.Size([64, 1, 28, 28])\n",
            "Shape of X[N, C. H. W]: torch.Size([64, 1, 28, 28])\n",
            "Shape of X[N, C. H. W]: torch.Size([64, 1, 28, 28])\n",
            "Shape of X[N, C. H. W]: torch.Size([64, 1, 28, 28])\n",
            "Shape of X[N, C. H. W]: torch.Size([64, 1, 28, 28])\n",
            "Shape of X[N, C. H. W]: torch.Size([64, 1, 28, 28])\n",
            "Shape of X[N, C. H. W]: torch.Size([64, 1, 28, 28])\n",
            "Shape of X[N, C. H. W]: torch.Size([64, 1, 28, 28])\n",
            "Shape of X[N, C. H. W]: torch.Size([64, 1, 28, 28])\n",
            "Shape of X[N, C. H. W]: torch.Size([64, 1, 28, 28])\n",
            "Shape of X[N, C. H. W]: torch.Size([64, 1, 28, 28])\n",
            "Shape of X[N, C. H. W]: torch.Size([64, 1, 28, 28])\n",
            "Shape of X[N, C. H. W]: torch.Size([64, 1, 28, 28])\n",
            "Shape of X[N, C. H. W]: torch.Size([64, 1, 28, 28])\n",
            "Shape of X[N, C. H. W]: torch.Size([64, 1, 28, 28])\n",
            "Shape of X[N, C. H. W]: torch.Size([64, 1, 28, 28])\n",
            "Shape of X[N, C. H. W]: torch.Size([64, 1, 28, 28])\n",
            "Shape of X[N, C. H. W]: torch.Size([64, 1, 28, 28])\n",
            "Shape of X[N, C. H. W]: torch.Size([64, 1, 28, 28])\n",
            "Shape of X[N, C. H. W]: torch.Size([64, 1, 28, 28])\n",
            "Shape of X[N, C. H. W]: torch.Size([64, 1, 28, 28])\n",
            "Shape of X[N, C. H. W]: torch.Size([64, 1, 28, 28])\n",
            "Shape of X[N, C. H. W]: torch.Size([64, 1, 28, 28])\n",
            "Shape of X[N, C. H. W]: torch.Size([64, 1, 28, 28])\n",
            "Shape of X[N, C. H. W]: torch.Size([64, 1, 28, 28])\n",
            "Shape of X[N, C. H. W]: torch.Size([64, 1, 28, 28])\n",
            "Shape of X[N, C. H. W]: torch.Size([64, 1, 28, 28])\n",
            "Shape of X[N, C. H. W]: torch.Size([16, 1, 28, 28])\n"
          ]
        }
      ]
    },
    {
      "cell_type": "markdown",
      "source": [
        "# Model Creation"
      ],
      "metadata": {
        "id": "uEmatG9yHHSl"
      }
    },
    {
      "cell_type": "code",
      "source": [
        "device = \"cpu\"\n",
        "\n",
        "class NeuralNetwork(nn.Module):\n",
        "  def __init__(self):\n",
        "    super().__init__()\n",
        "    self.flatten = nn.Flatten()\n",
        "    self.linear_relu_stack = nn.Sequential(\n",
        "        nn.Linear(28*28, 512),\n",
        "        nn.ReLU(),\n",
        "        nn.Linear(512, 512),\n",
        "        nn.ReLU(),\n",
        "        nn.Linear(512, 10),\n",
        "        nn.ReLU(),\n",
        "    )\n",
        "\n",
        "  def forward(self, x):\n",
        "    x = self.flatten(x)\n",
        "    logits = self.linear_relu_stack(x)\n",
        "    return logits\n",
        "\n",
        "model = NeuralNetwork().to(device)"
      ],
      "metadata": {
        "id": "YaxmAGYFHKNG"
      },
      "execution_count": null,
      "outputs": []
    },
    {
      "cell_type": "code",
      "source": [
        "loss_fn = nn.CrossEntropyLoss()\n",
        "optimizer = torch.optim.SGD(model.parameters(), lr=0.001)"
      ],
      "metadata": {
        "id": "1EHAyhyPj3uv"
      },
      "execution_count": null,
      "outputs": []
    },
    {
      "cell_type": "markdown",
      "source": [
        "# Training and Test Functions"
      ],
      "metadata": {
        "id": "xzpEChm7lbDf"
      }
    },
    {
      "cell_type": "code",
      "source": [
        "def train(dataloader, model, loss_fn, optimizer):\n",
        "  size = len(dataloader.dataset)\n",
        "  model.train()\n",
        "  for batch, (X, y) in enumerate(dataloader):\n",
        "    X, y = X.to(device), y.to(device)\n",
        "\n",
        "    pred = model(X)\n",
        "    loss = loss_fn(pred, y)\n",
        "\n",
        "    loss.backward()\n",
        "    optimizer.step()\n",
        "\n",
        "    optimizer.zero_grad()\n",
        "\n",
        "    if batch % 100 ==0:\n",
        "      loss = loss.item()\n",
        "      current_input = batch * len(X)\n",
        "      print(f\"loss: {loss:>7f} [{current_input:>5d}/{size:>5d}]\")"
      ],
      "metadata": {
        "id": "LnDZ9I_pknLn"
      },
      "execution_count": null,
      "outputs": []
    },
    {
      "cell_type": "code",
      "source": [
        "def test(dataloader, model, loss_fn):\n",
        "  size = len(dataloader.dataset)\n",
        "  num_batches = len(dataloader)\n",
        "  model.eval()\n",
        "\n",
        "  test_loss = 0\n",
        "  correct = 0\n",
        "\n",
        "  with torch.no_grad():\n",
        "    for X, y in dataloader:\n",
        "      X, y = X.to(device), y.to(device)\n",
        "      pred = model(X)\n",
        "\n",
        "      test_loss = test_loss + loss_fn(pred, y).item()\n",
        "\n",
        "      correct_numbers_in_batch = (pred.argmax(1) == y).type(torch.float).sum().item()\n",
        "      correct = correct + correct_numbers_in_batch\n",
        "\n",
        "    test_loss = test_loss / num_batches\n",
        "    correct = correct / size\n",
        "\n",
        "    print(f\"Test Error: \\n Accuracy: (correct / # of images) {(100*correct):>0.1f}%, Average loss: {test_loss:>8f} \\n\")"
      ],
      "metadata": {
        "id": "3zvsPXsTw2bg"
      },
      "execution_count": null,
      "outputs": []
    },
    {
      "cell_type": "markdown",
      "source": [
        "# Main Training"
      ],
      "metadata": {
        "id": "YjCkCzGxpTAs"
      }
    },
    {
      "cell_type": "code",
      "source": [
        "epochs = 5\n",
        "for t in range (epochs):\n",
        "  print(f\"Epoch {t+1}\\n ===================\")\n",
        "  train(train_dataloader, model, loss_fn, optimizer)\n",
        "\n",
        "print(\"Training is finished!\")"
      ],
      "metadata": {
        "colab": {
          "base_uri": "https://localhost:8080/"
        },
        "id": "kWDhZC9BpXlk",
        "outputId": "f7bfcf96-dbe3-4e54-b4bb-19fe189b1bc7"
      },
      "execution_count": null,
      "outputs": [
        {
          "output_type": "stream",
          "name": "stdout",
          "text": [
            "Epoch 1\n",
            " ===================\n",
            "loss: 2.307124 [    0/60000]\n",
            "loss: 2.296223 [ 6400/60000]\n",
            "loss: 2.284158 [12800/60000]\n",
            "loss: 2.278393 [19200/60000]\n",
            "loss: 2.261662 [25600/60000]\n",
            "loss: 2.248488 [32000/60000]\n",
            "loss: 2.253339 [38400/60000]\n",
            "loss: 2.227105 [44800/60000]\n",
            "loss: 2.236144 [51200/60000]\n",
            "loss: 2.211078 [57600/60000]\n",
            "Epoch 2\n",
            " ===================\n",
            "loss: 2.222710 [    0/60000]\n",
            "loss: 2.216200 [ 6400/60000]\n",
            "loss: 2.180702 [12800/60000]\n",
            "loss: 2.189997 [19200/60000]\n",
            "loss: 2.121297 [25600/60000]\n",
            "loss: 2.119347 [32000/60000]\n",
            "loss: 2.141635 [38400/60000]\n",
            "loss: 2.087911 [44800/60000]\n",
            "loss: 2.127920 [51200/60000]\n",
            "loss: 2.068120 [57600/60000]\n",
            "Epoch 3\n",
            " ===================\n",
            "loss: 2.103740 [    0/60000]\n",
            "loss: 2.080782 [ 6400/60000]\n",
            "loss: 2.015663 [12800/60000]\n",
            "loss: 2.044324 [19200/60000]\n",
            "loss: 1.884021 [25600/60000]\n",
            "loss: 1.925398 [32000/60000]\n",
            "loss: 1.965881 [38400/60000]\n",
            "loss: 1.878991 [44800/60000]\n",
            "loss: 1.984015 [51200/60000]\n",
            "loss: 1.870162 [57600/60000]\n",
            "Epoch 4\n",
            " ===================\n",
            "loss: 1.948876 [    0/60000]\n",
            "loss: 1.899234 [ 6400/60000]\n",
            "loss: 1.810836 [12800/60000]\n",
            "loss: 1.862104 [19200/60000]\n",
            "loss: 1.613092 [25600/60000]\n",
            "loss: 1.728263 [32000/60000]\n",
            "loss: 1.794075 [38400/60000]\n",
            "loss: 1.688671 [44800/60000]\n",
            "loss: 1.855027 [51200/60000]\n",
            "loss: 1.711194 [57600/60000]\n",
            "Epoch 5\n",
            " ===================\n",
            "loss: 1.816684 [    0/60000]\n",
            "loss: 1.752424 [ 6400/60000]\n",
            "loss: 1.650173 [12800/60000]\n",
            "loss: 1.725336 [19200/60000]\n",
            "loss: 1.416706 [25600/60000]\n",
            "loss: 1.593479 [32000/60000]\n",
            "loss: 1.681059 [38400/60000]\n",
            "loss: 1.566004 [44800/60000]\n",
            "loss: 1.754089 [51200/60000]\n",
            "loss: 1.613518 [57600/60000]\n",
            "Training is finished!\n"
          ]
        }
      ]
    },
    {
      "cell_type": "markdown",
      "source": [
        "# Using the Model to predict"
      ],
      "metadata": {
        "id": "ponVNv0V495J"
      }
    },
    {
      "cell_type": "code",
      "source": [
        "from PIL import Image\n",
        "from torchvision import transforms\n",
        "\n",
        "image = Image.open(\"/content/drive/MyDrive/ml/test.jpg\").convert(\"RGB\")\n",
        "\n",
        "transform = transforms.Compose([\n",
        "    transforms.Grayscale(1),\n",
        "    transforms.Resize((28,28)),\n",
        "    transforms.ToTensor(),\n",
        "    transforms.Normalize((0.5), (0.5))\n",
        "])\n",
        "\n",
        "\n",
        "image = transform(image)\n",
        "print(f\"Shape of image: {image.shape}\")\n",
        "image = image.unsqueeze(0)\n",
        "print(f\"Shape of image: {image.shape}\")\n",
        "\n",
        "with torch.no_grad():\n",
        "  pred = model(image)\n",
        "\n",
        "probabilities = torch.nn.functional.softmax(pred, dim=1)\n",
        "print(f\"Probabilities: {probabilities}\")\n",
        "\n",
        "predicted_label = probabilities.argmax(1).item()\n",
        "print(f\"Predicted label: {labels_map[predicted_label]}\")"
      ],
      "metadata": {
        "colab": {
          "base_uri": "https://localhost:8080/"
        },
        "id": "RqntjkTd44n5",
        "outputId": "616aa6ce-11dd-4442-b8c4-d84eb9cc9eaa"
      },
      "execution_count": null,
      "outputs": [
        {
          "output_type": "stream",
          "name": "stdout",
          "text": [
            "Shape of image: torch.Size([1, 28, 28])\n",
            "Shape of image: torch.Size([1, 1, 28, 28])\n",
            "Probabilities: tensor([[0.0353, 0.0128, 0.1127, 0.0128, 0.0688, 0.0515, 0.0866, 0.0128, 0.5066,\n",
            "         0.1002]])\n",
            "Predicted label: Bag\n"
          ]
        }
      ]
    },
    {
      "cell_type": "markdown",
      "source": [
        "# Saving and Loading the Model"
      ],
      "metadata": {
        "id": "zs9V-UAcVtqA"
      }
    },
    {
      "cell_type": "code",
      "source": [
        "torch.save(model.state_dict(), \"/content/drive/MyDrive/ml/firstModel.pth\")"
      ],
      "metadata": {
        "id": "witR2ofXVhbe"
      },
      "execution_count": null,
      "outputs": []
    }
  ]
}